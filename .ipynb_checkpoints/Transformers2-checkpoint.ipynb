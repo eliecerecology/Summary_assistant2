{
 "cells": [
  {
   "cell_type": "code",
   "execution_count": 1,
   "id": "c9015c9b",
   "metadata": {},
   "outputs": [],
   "source": [
    "import os\n",
    "import pandas as pd\n",
    "import matplotlib.pyplot as plt\n",
    "from operator import itemgetter\n",
    "from collections import Counter\n",
    "import re\n",
    "import pdf_parse_functions\n",
    "from transformers import pipeline"
   ]
  },
  {
   "cell_type": "code",
   "execution_count": 2,
   "id": "132bf4db",
   "metadata": {},
   "outputs": [],
   "source": [
    "from operator import itemgetter\n",
    "import fitz\n",
    "import spacy\n",
    "from collections import Counter\n",
    "import re\n"
   ]
  },
  {
   "cell_type": "code",
   "execution_count": 3,
   "id": "652d2537",
   "metadata": {},
   "outputs": [],
   "source": [
    "import warnings\n",
    "warnings.filterwarnings(\"ignore\")"
   ]
  },
  {
   "cell_type": "code",
   "execution_count": 4,
   "id": "c9fcc405",
   "metadata": {},
   "outputs": [],
   "source": [
    "summa = pipeline(\"summarization\")\n",
    "sentiment_analysis = pipeline('sentiment-analysis')"
   ]
  },
  {
   "cell_type": "code",
   "execution_count": 7,
   "id": "76b94855",
   "metadata": {},
   "outputs": [],
   "source": [
    "datapath = \"/home/helix/Documents/UNAIDS/code/unaids_branch/Demo/pdfs/\" \n",
    "pdfnames = os.listdir(datapath)"
   ]
  },
  {
   "cell_type": "code",
   "execution_count": 84,
   "id": "b8eeb09b",
   "metadata": {},
   "outputs": [
    {
     "data": {
      "text/plain": [
       "['ToR_GAM_AI Data POC_Silo AI Oy.pdf',\n",
       " 'colombia.pdf',\n",
       " 'kenya2.pdf',\n",
       " 'Zambia_IBBS_Final Report_May 2018.pdf',\n",
       " 'SAIDS3.pdf',\n",
       " 'SummaryBrazil.pdf',\n",
       " 'SouthAfrica.pdf',\n",
       " 'SAIDS.pdf',\n",
       " 'Caribbean.pdf',\n",
       " 'ARG.pdf',\n",
       " 'SAIDS.txt',\n",
       " 'centralAsia.pdf',\n",
       " 'Cameroon Report_July 4 2014.pdf',\n",
       " 'SAIDS1.pdf',\n",
       " 'LimePaper.pdf',\n",
       " 'Cameroon2014.pdf',\n",
       " 'LimeVsShap.pdf',\n",
       " 'LimeMedium.pdf',\n",
       " 'Libro TRANS 2016.pdf']"
      ]
     },
     "execution_count": 84,
     "metadata": {},
     "output_type": "execute_result"
    }
   ],
   "source": [
    "pdfnames"
   ]
  },
  {
   "cell_type": "markdown",
   "id": "d5fe9091",
   "metadata": {},
   "source": [
    "# Central Asia:"
   ]
  },
  {
   "cell_type": "code",
   "execution_count": 135,
   "id": "eb38f2ae",
   "metadata": {},
   "outputs": [],
   "source": [
    "language = \"english\"\n",
    "\n",
    "if language == \"spanish\":\n",
    "    keywords = ('sida', 'sexo', 'ETS')\n",
    "    listOfStrings = ['TABLAS' , 'FIGURAS', 'figura', 'tabla', '...']\n",
    "else:\n",
    "    keywords = ('STI', \"HIV\") #('HIV', 'gender', 'STI')\n",
    "    listOfStrings = ['TABLES' , 'FIGURE', 'figure', 'table', '...']"
   ]
  },
  {
   "cell_type": "code",
   "execution_count": 136,
   "id": "095229b2",
   "metadata": {},
   "outputs": [
    {
     "name": "stdout",
     "output_type": "stream",
     "text": [
      "/home/helix/Documents/UNAIDS/code/unaids_branch/Demo/pdfs/Cameroon Report_July 4 2014.pdf\n"
     ]
    }
   ],
   "source": [
    "print(datapath+pdfnames[12])"
   ]
  },
  {
   "cell_type": "code",
   "execution_count": 138,
   "id": "57be82a8",
   "metadata": {},
   "outputs": [],
   "source": [
    "paragraphs = pdf_parse_functions.pdf_parser(datapath+pdfnames[12])\n",
    "paragraphs_with_key_words = pdf_parse_functions.get_paragraphs_with_key_words(paragraphs, keywords)"
   ]
  },
  {
   "cell_type": "code",
   "execution_count": 103,
   "id": "8761cd33",
   "metadata": {},
   "outputs": [],
   "source": [
    "#paragraphs_with_key_words"
   ]
  },
  {
   "cell_type": "code",
   "execution_count": 142,
   "id": "8b79ef80",
   "metadata": {},
   "outputs": [],
   "source": [
    "# Clean the paragraphs:\n",
    "word_list = []\n",
    "for para in paragraphs_with_key_words:\n",
    "    if any(w in para['text'] for w in listOfStrings)  == True:\n",
    "        pass\n",
    "    else:\n",
    "        word_list.append(para)"
   ]
  },
  {
   "cell_type": "code",
   "execution_count": 143,
   "id": "e48ef3ee",
   "metadata": {},
   "outputs": [],
   "source": [
    "paragraphs_with_key_words = word_list"
   ]
  },
  {
   "cell_type": "code",
   "execution_count": 126,
   "id": "367c96f6",
   "metadata": {},
   "outputs": [],
   "source": [
    "df = pd.DataFrame.from_dict(paragraphs_with_key_words)"
   ]
  },
  {
   "cell_type": "code",
   "execution_count": 15,
   "id": "42307e96",
   "metadata": {},
   "outputs": [],
   "source": [
    "#df.to_csv('/home/helix/Documents/UNAIDS/Development/DemoFlask2/SA.csv', index=False)"
   ]
  },
  {
   "cell_type": "code",
   "execution_count": 16,
   "id": "3561426f",
   "metadata": {},
   "outputs": [],
   "source": [
    "#df[df['heading'] == '2) Gender'].text"
   ]
  },
  {
   "cell_type": "code",
   "execution_count": 161,
   "id": "e0728043",
   "metadata": {},
   "outputs": [
    {
     "data": {
      "text/plain": [
       "'Nineteen services mentioned by MSM were visited in Yaounde including ten public facilities, four private clinics and five CBO/NGOs. 13/19 services reported specialized training for staff in dealing with MSM or FSW. Seventeen had undertaken HIV counseling and testing in the past month and four had undertaken specialized sessions (for MSM or FSW), twelve had provided ARV medication in last month and only one did not report ARV shortages in the last 12 months. It is noteworthy that of the four services mentioned by at least 10% of the population, three are associations with limited HCT facilities and no clinical provision. Only one of the top four (Hopital Central) reported having ARV capacity in the past four weeks, while also experiencing at least one ARV stock outage in the last 12 months. Additionally, the most frequently cited center by MSM was Humanity First with 40.1% of respondents identifying it while the next highest center was only identified by 19.7% of the population. In 2011 41.8% of MSM reported having accessed the CAMNAFAW clinic or being reached by Humanity First peer educators or outreach workers in the previous 12 months (CARE 2012). In both Care (2012) and the current study, Humanity First has only been able to reach approximately 40% of the MSM population in HIV Prevention for Populations at Risk in Cameroon - final report (4 July 2013).45 the city. Although Humanity First has not reached the majority of MSM respondents it is the most commonly cited service center. This represents a lack of clinical services in Yaounde since Humanity First does not provide HIV testing or ARV medication. MSM in Yaounde are largely not connected to centers that provide HIV testing, treatment, or care. The low levels of access to HIV services are further evidenced in both MSM and FSW populations by the percent of respondents in the city who failed to identify any health centers that provide HIV services. Of all the cities, Yaounde had the second highest number of each population that reported not seeking or receiving HIV prevention, care, and treatment, with 20.4% MSM and 17.2% of FSW reporting seeking or receiving no health services. Eighteen services mentioned by FSW were visited in Yaounde including twelve public facilities, three private clinics and three CBO/NGOs. Eleven services reported specialized training for staff in dealing with MSM or FSW. Seventeen had undertaken HIV counseling and testing in the past month and three had undertaken specialized sessions (for MSM or FSW), twelve had provided ARV medication in last month and only two did not report ARV shortages in the last 12 months. Of the two top services cited by the FSW population, only one had HIV clinical capacity, as the other was Horizon Femme, the PEPFAR HAPP funded association that provides HCT and referral to clinical services in Yaounde and Douala. It is noteworthy that 17.2% of the FSW population in Yaounde reported not seeking or receiving any HIV prevention, care or treatment service. Overall, this implies the coverage of clinical services for the FSW population in Yaoundé is limited. HIV Prevention for Populations at Risk in Cameroon - final report (4 July 2014).46 '"
      ]
     },
     "execution_count": 161,
     "metadata": {},
     "output_type": "execute_result"
    }
   ],
   "source": [
    "paragraphs_with_key_words[1]['text']"
   ]
  },
  {
   "cell_type": "code",
   "execution_count": 162,
   "id": "048ccb52",
   "metadata": {},
   "outputs": [
    {
     "data": {
      "text/plain": [
       "[{'summary_text': ' Of all the cities, Yaounde had the second highest number of each population that reported not seeking or receiving HIV prevention, care, and treatment . Of the four services mentioned by at least 10% of the population, three are associations with limited HCT facilities and no clinical provision . Only one of the top four (Hopital Central) reported having ARV capacity in the past four weeks .'}]"
      ]
     },
     "execution_count": 162,
     "metadata": {},
     "output_type": "execute_result"
    }
   ],
   "source": [
    "summa(paragraphs_with_key_words[1]['text'])"
   ]
  },
  {
   "cell_type": "code",
   "execution_count": 169,
   "id": "1736500e",
   "metadata": {},
   "outputs": [
    {
     "ename": "IndentationError",
     "evalue": "unindent does not match any outer indentation level (<tokenize>, line 12)",
     "output_type": "error",
     "traceback": [
      "\u001b[0;36m  File \u001b[0;32m\"<tokenize>\"\u001b[0;36m, line \u001b[0;32m12\u001b[0m\n\u001b[0;31m    summaries.append(summa(paragraphs_with_key_words[i]['text'])) #remove this for demo\u001b[0m\n\u001b[0m    ^\u001b[0m\n\u001b[0;31mIndentationError\u001b[0m\u001b[0;31m:\u001b[0m unindent does not match any outer indentation level\n"
     ]
    }
   ],
   "source": [
    "datapath ='./upload_folder/'\n",
    "pdfnames = os.listdir(datapath)\n",
    "print(datapath+pdfnames[0])\n",
    "paragraphs = pdf_parse_functions.pdf_parser(datapath+pdfnames[0])\n",
    "paragraphs_with_key_words = pdf_parse_functions.get_paragraphs_with_key_words(paragraphs, (\"HIV\", \"STI\", \"sex\"))\n",
    "    \n",
    "lista = []\n",
    "summaries = []\n",
    "for i in range(0,len(paragraphs_with_key_words)):\n",
    "    lista.append(paragraphs_with_key_words[i]['text'])\n",
    "    summaries.append(summa(paragraphs_with_key_words[i]['text'])) #remove this for demo\n",
    "    print(i)\n",
    "    break      #break # only to speed up\n",
    "print(\"finish!\")\n"
   ]
  },
  {
   "cell_type": "code",
   "execution_count": 154,
   "id": "c59c3c1d",
   "metadata": {},
   "outputs": [
    {
     "data": {
      "text/plain": [
       "str"
      ]
     },
     "execution_count": 154,
     "metadata": {},
     "output_type": "execute_result"
    }
   ],
   "source": [
    "type(paragraphs_with_key_words[3]['text'])"
   ]
  },
  {
   "cell_type": "code",
   "execution_count": 11,
   "id": "839e97cc",
   "metadata": {},
   "outputs": [
    {
     "name": "stderr",
     "output_type": "stream",
     "text": [
      "Your max_length is set to 142, but you input_length is only 128. You might consider decreasing max_length manually, e.g. summarizer('...', max_length=50)\n",
      "Your max_length is set to 142, but you input_length is only 137. You might consider decreasing max_length manually, e.g. summarizer('...', max_length=50)\n",
      "Your max_length is set to 142, but you input_length is only 138. You might consider decreasing max_length manually, e.g. summarizer('...', max_length=50)\n",
      "Your max_length is set to 142, but you input_length is only 54. You might consider decreasing max_length manually, e.g. summarizer('...', max_length=50)\n",
      "Your max_length is set to 142, but you input_length is only 76. You might consider decreasing max_length manually, e.g. summarizer('...', max_length=50)\n",
      "Your max_length is set to 142, but you input_length is only 94. You might consider decreasing max_length manually, e.g. summarizer('...', max_length=50)\n",
      "Your max_length is set to 142, but you input_length is only 63. You might consider decreasing max_length manually, e.g. summarizer('...', max_length=50)\n",
      "Your max_length is set to 142, but you input_length is only 135. You might consider decreasing max_length manually, e.g. summarizer('...', max_length=50)\n",
      "Your max_length is set to 142, but you input_length is only 62. You might consider decreasing max_length manually, e.g. summarizer('...', max_length=50)\n",
      "Your max_length is set to 142, but you input_length is only 50. You might consider decreasing max_length manually, e.g. summarizer('...', max_length=50)\n",
      "Your max_length is set to 142, but you input_length is only 67. You might consider decreasing max_length manually, e.g. summarizer('...', max_length=50)\n",
      "Your max_length is set to 142, but you input_length is only 52. You might consider decreasing max_length manually, e.g. summarizer('...', max_length=50)\n"
     ]
    }
   ],
   "source": [
    "# Loop to automatize this process\n",
    "lista = []\n",
    "summaries = []\n",
    "for i in range(0,len(paragraphs_with_key_words)):\n",
    "     lista.append(paragraphs_with_key_words[i]['text'])\n",
    "    \n",
    "     summaries.append(summa(paragraphs_with_key_words[i]['text']))\n"
   ]
  },
  {
   "cell_type": "markdown",
   "id": "bd8e1b48",
   "metadata": {},
   "source": [
    "Sentiment analyses\n"
   ]
  },
  {
   "cell_type": "code",
   "execution_count": 15,
   "id": "75d6751b",
   "metadata": {},
   "outputs": [],
   "source": [
    "import pymongo\n",
    "\n",
    "myclient = pymongo.MongoClient(\"mongodb://localhost:27017/\")\n",
    "\n",
    "mydb = myclient[\"SummariesDB\"]"
   ]
  },
  {
   "cell_type": "code",
   "execution_count": 16,
   "id": "cd0fdc40",
   "metadata": {},
   "outputs": [],
   "source": [
    "mycol = mydb[\"summaries\"]"
   ]
  },
  {
   "cell_type": "code",
   "execution_count": 29,
   "id": "07fbacf0",
   "metadata": {},
   "outputs": [],
   "source": [
    "#x = mycol.insert_many(summaries)\n",
    "for i in summaries:\n",
    "    x = mycol.insert_one(i[0])"
   ]
  },
  {
   "cell_type": "code",
   "execution_count": 45,
   "id": "6c55cc1e",
   "metadata": {},
   "outputs": [],
   "source": [
    "stuff = mycol.find()"
   ]
  },
  {
   "cell_type": "code",
   "execution_count": 46,
   "id": "5f6c7c04",
   "metadata": {},
   "outputs": [],
   "source": [
    "summaries = []\n",
    "for i in stuff:\n",
    "    summaries.append(i)"
   ]
  },
  {
   "cell_type": "code",
   "execution_count": 38,
   "id": "76689614",
   "metadata": {},
   "outputs": [
    {
     "data": {
      "text/plain": [
       "' Eastern European and Central Asian societies display traditional gender norms where men are expected to ignore or even seek risks associated with IDU or high-risk sex . Women often lack the power to choose their sexual relations and their bodies may be considered as potential transactional goods . The threat of HIV has not yet been taken seriously by governments or by the general population .'"
      ]
     },
     "execution_count": 38,
     "metadata": {},
     "output_type": "execute_result"
    }
   ],
   "source": [
    "summaries[0]['summary_text']\n"
   ]
  },
  {
   "cell_type": "code",
   "execution_count": 39,
   "id": "7bbbaa60",
   "metadata": {},
   "outputs": [
    {
     "data": {
      "text/plain": [
       "{'label': 'NEGATIVE', 'score': 0.9944685101509094}"
      ]
     },
     "execution_count": 39,
     "metadata": {},
     "output_type": "execute_result"
    }
   ],
   "source": [
    "sentiment_analysis((summaries[0]['summary_text']))[0]"
   ]
  },
  {
   "cell_type": "code",
   "execution_count": 50,
   "id": "74bd2260",
   "metadata": {},
   "outputs": [
    {
     "name": "stdout",
     "output_type": "stream",
     "text": [
      " Eastern European and Central Asian societies display traditional gender norms where men are expected to ignore or even seek risks associated with IDU or high-risk sex . Women often lack the power to choose their sexual relations and their bodies may be considered as potential transactional goods . The threat of HIV has not yet been taken seriously by governments or by the general population .\n"
     ]
    }
   ],
   "source": [
    "for i in summaries:\n",
    "    print(i['summary_text'])\n",
    " \n",
    "\n",
    "    result = sentiment_analysis((i['summary_text']))[0]\n",
    "    break\n",
    "        \n",
    " "
   ]
  },
  {
   "cell_type": "code",
   "execution_count": 51,
   "id": "7b47f135",
   "metadata": {},
   "outputs": [
    {
     "data": {
      "text/plain": [
       "{'label': 'NEGATIVE', 'score': 0.9944685101509094}"
      ]
     },
     "execution_count": 51,
     "metadata": {},
     "output_type": "execute_result"
    }
   ],
   "source": [
    "result"
   ]
  },
  {
   "cell_type": "code",
   "execution_count": 91,
   "id": "967ec183",
   "metadata": {},
   "outputs": [],
   "source": [
    "https://www.viralml.com/video-content.html?v=WmyYyOtZwzs"
   ]
  },
  {
   "cell_type": "code",
   "execution_count": 52,
   "id": "6c6b0c55",
   "metadata": {},
   "outputs": [],
   "source": [
    "def plot(summaries):\n",
    "    label = []\n",
    "    score = []\n",
    "    for i in summaries:\n",
    "    \n",
    "        result = sentiment_analysis((i['summary_text']))[0]\n",
    "        label.append(result['label'])\n",
    "        score.append(result['score'])   \n",
    "    \n",
    "    data_tuples = list(zip(label,score))\n",
    "    df = pd.DataFrame(data_tuples, columns=['label','score'])\n",
    "\n",
    "    posit = df[df[\"label\"] == \"POSITIVE\"]\n",
    "    negat = df[df[\"label\"] == \"NEGATIVE\"]\n",
    "    means = [posit['score'].mean(), negat['score'].mean() ]\n",
    "    labe = [\"POSITIVE\", \"NEGATIVE\"]\n",
    "\n",
    "    fig = plt.figure()\n",
    "\n",
    "\n",
    "    ax = fig.add_axes([0,0,1,1])\n",
    "    ax.set_ylim([0,1])\n",
    "    ax.bar(labe, means)\n",
    "    ax.set_xlabel(\"sentiment\")\n",
    "    ax.set_title(\"Article 2\")\n",
    "    ax.set_ylabel(\"Mean score Latin America\")\n",
    "    plt.show()"
   ]
  },
  {
   "cell_type": "code",
   "execution_count": 53,
   "id": "e17e9cfd",
   "metadata": {},
   "outputs": [
    {
     "data": {
      "image/png": "[encoded data removed]",
      "text/plain": [
       "<Figure size 432x288 with 1 Axes>"
      ]
     },
     "metadata": {
      "needs_background": "light"
     },
     "output_type": "display_data"
    }
   ],
   "source": [
    "plot(summaries)"
   ]
  },
  {
   "cell_type": "markdown",
   "id": "3ae557f6",
   "metadata": {},
   "source": [
    "# MongoDB"
   ]
  },
  {
   "cell_type": "code",
   "execution_count": 22,
   "id": "0d644676",
   "metadata": {},
   "outputs": [],
   "source": [
    "country = \"colombia\""
   ]
  },
  {
   "cell_type": "code",
   "execution_count": 44,
   "id": "f5b94ac1",
   "metadata": {},
   "outputs": [],
   "source": [
    "# importing module\n",
    "from pymongo import MongoClient\n",
    "  \n",
    "# creation of MongoClient\n",
    "client=MongoClient()\n",
    "  \n",
    "# Connect with the portnumber and host\n",
    "client = MongoClient(\"mongodb://localhost:27017/\")\n",
    "  \n",
    "# Access database\n",
    "mydatabase = client[\"UNAIDS_db\"]\n",
    "  \n",
    "# Access collection of the database\n",
    "mycollection = mydatabase[\"summaryTable\"]\n",
    " "
   ]
  },
  {
   "cell_type": "code",
   "execution_count": 54,
   "id": "db31e7a3",
   "metadata": {},
   "outputs": [],
   "source": [
    "for para in paragraphs_with_key_words:\n",
    "    mydatabase.summaryTable.insert_one(para)"
   ]
  },
  {
   "cell_type": "code",
   "execution_count": 55,
   "id": "d60687c1",
   "metadata": {},
   "outputs": [
    {
     "name": "stdout",
     "output_type": "stream",
     "text": [
      "{'_id': ObjectId('6093c92a2799b9616a6f8a11'), 'heading': '6. Conclusions ', 'text': 'The costing of HIV interventions in this study is based on 2016 HIV guidelines and considers two scenarios: NASCOP and Standard. The NASCOP scenario was based on national HIV programme targets towards achievement of 90-90-90, and the Standard scenario was based on the assumption that the guidelines would be fully implemented as spelt out in the 2016 ART guidelines. In the NASCOP scenario, the population base is assumed to be constant for the four-year costing projections, while the Standard scenario adjusts its population in need to consider incidence, mortality, and population growth rates. However, both scenarios considered two key assumptions: the gains obtained from the reduction in HIV mortality and the reduction in HIV incidence rates. Findings have shown that the average annual cost of putting a patient on ARVs is Ksh 12,032.36 (US$115.7). The Standard scenario costs more than the NASCOP scenario, although differences vary across programme areas. The key biomedical cost drivers in both scenarios were ARTs and laboratory management. Although non-biomedical interventions seemed to be a cost driver, these cost estimates were derived as a proportion of the total cost based on the report of a cost study of HIV treatment conducted in 2013 (U.S. Centers for Diseases Control and Kenya Ministry of Health, (2013), which had an in-depth micro-costing of both medical and non-medical HIV programme interventions. In conclusion, there is an expected escalation in future costs with the implementation of the new 2016 ART guidelines. This is due to inclusion of more people living with HIV in care and treatment programmes, and further enhanced by a reduction in HIV-related mortality. The inclusion of PrEP and PEP as prevention measures might have a significant impact on reducing the HIV incidence rate. This will, however, come with a considerable increase in the resources needed to fund interventions. Therefore, the key policy interventions introduced in the new guidelines center on prevention and acceleration of treatment aimed at reducing HIV incidence rates and related mortalities. This calls for resources to cover an increased number of people targeted for care and treatment programmes. A lowered mortality rate achieved through an ART programme implies increased HIV costs, as the number of people living with HIV who require HIV care will also increase. Kenya must explore channels for financing its increased need for HIV care and treatment. These could include coverage of HIV services in health insurance benefits packages (social or private health insurance), increased domestic resource mobilisation (including allocations from national and county governments), and engaging the private sector to play a bigger role in HIV financing. 20', 'key_words_info': {'key_words': ['HIV', 'sex'], 'counts': [17, 0]}, 'importance': 17, 'country': 'kenya'}\n",
      "{'_id': ObjectId('6093c92a2799b9616a6f8a12'), 'heading': 'Executive Summary ', 'text': 'In 2016, the Ministry of Health (MOH) updated Kenya’s national HIV guidelines to provide guidance on the use of antiretrovirals (ARVs) to treat and prevent HIV infection. To inform implementation and resource mobilisation, the MOH needed to understand the costing implications of implementing the new guidelines. This created the need for a study to estimate the costs of implementing the new guidelines, based on the country targets and covering all known people living with HIV in Kenya. This study adopted a micro-costing approach using population data from 2015 HIV revised estimates. The study considered two costing scenarios—the “NASCOP scenario,” based on NASCOP (National AIDS/STI Control Programme) targets to achieve the UNAIDS 90-90-90 targets; and the “Standard scenario,” based on full adoption of the new guidelines. The results show that the average annual unit cost of an adult on ARVs is Ksh 12,032.36 (US$115.7). The unit cost varies by regimen type, with the unit cost of an adults first-line regimen being Ksh 9,501.44 (US$91.4) per year, compared to Ksh 26,499.20 (US$254.8) for second-line. The annual unit cost of pediatric ARVs was estimated at Ksh 17,800.64 (US$171.2) per patient. As shown in Table E1, implementation of the new antiretroviral therapy (ART) guidelines under the Standard scenario will cost about 20 percent more than under the NASCOP scenario. The estimated cost of implementingthe new guidelines under the NASCOP and Standard scenarios in the next four years (FY2016/17–2019/20) is Ksh 197.8 billion (US$1.9 billion) and Ksh 239.2 billion (US$2.3 billion), respectively. The higher costs under the Standard scenario can explained by the higher number of people living with HIV expected to be initiated on treatment. In both scenarios, key commodities (ARVs, laboratory management, and test kits) are the main cost drivers, accounting for 61 percent of the total cost (seeTable E1). ', 'key_words_info': {'key_words': ['HIV', 'sex'], 'counts': [5, 0]}, 'importance': 5, 'country': 'kenya'}\n",
      "{'_id': ObjectId('6093c92a2799b9616a6f8a13'), 'heading': '5.7 HIV testing services for the general population   ', 'text': 'Under the NASCOP scenario, HIV testing services cost approximately Ksh 1 billion (US$10 million) in 2016/17 (see Figure 13). The total cost drops over the two subsequent periods and then increases slightly in the last period. Key cost drivers for HIV testing services are the HIV rapid kits, at a cost of approximately Ksh 936 million (US$9 million), and blood collection bags. The reason for the low estimated costs for confirmatory tests is that the test is only administered to people who have tested positive from the HIV rapid kits—this is expected to be a small proportion of the total population under testing. ', 'key_words_info': {'key_words': ['HIV', 'sex'], 'counts': [5, 0]}, 'importance': 5, 'country': 'kenya'}\n",
      "{'_id': ObjectId('6093c92a2799b9616a6f8a14'), 'heading': 'List of Figures ', 'text': 'Figure E1: Relative Costs for NCD Screening, by Disease (FY2016/17–2019/20) .......... ix Figure 1: Linkages between Key Programmatic Areas and Costing Framework for 2016 HIV Guidelines ................................................................................................... 6 Figure 2: Trend in the Costs of HIV 2016 Guideline Implementation ........................... 10 Figure 3: Costs of Routine Adult and Pediatric ARVs under NASCOP Scenario............ 10 Figure 4: Trend in Costs of Providing ARVs for Care and Treatment ............................. 11 Figure 5: Laboratory Management: Adults versus Pediatrics, NASCOP Scenario .......... 11 Figure 6: Costs of Laboratory Management between NASCOP and Standard Scenarios ......................................................................................................... 12 Figure 7: Costs of Viral Load Test ................................................................................... 12 Figure 8: Cost for PEP, NASCOP and Standard Scenarios ............................................. 13 Figure 9: PMTCT, NASCOP Scenario ............................................................................. 13 Figure 10: PMTCT Costs, NASCOP versus Standard Scenarios ..................................... 14 Figure 11: PrEP, NASCOP Scenario ................................................................................ 14 Figure 12: PrEP, NASCOP versus Standard Scenarios ................................................... 15 Figure 13: HIV Testing Services Cost Estimates, NASCOP Scenario.............................. 15 Figure 14: HIV Testing Services Cost Estimates, NASCOP versus Standard Scenarios ......................................................................................................... 16 Figure 15: Screening NCD and Co-morbidities, NASCOP Scenario ............................... 16 Figure 16: Screening for NCDs and Co-morbidities, NASCOP versus Standard Scenarios ......................................................................................................... 17 Figure 17: Medicines for Opportunistic Diseases, NASCOP Scenario ............................ 17 Figure 18: Medicines for Opportunistic Diseases, NASCOP versus Standard Scenarios ......................................................................................................... 18 v ', 'key_words_info': {'key_words': ['HIV', 'sex'], 'counts': [4, 0]}, 'importance': 4, 'country': 'kenya'}\n",
      "{'_id': ObjectId('6093c92a2799b9616a6f8a15'), 'heading': '5.5 Prevention of mother-to-child transmission ', 'text': 'Figure 9 shows the estimated cost of PMTCT using the NASCOP scenario. The PMTCT costs incorporate three estimated cost components: rapid HIV testing for pregnant mothers, early infant diagnosis (or infant PCR test), and prophylaxis (the primary cost driver). HIV rapid testing for pregnant mothers, which includes blood collection bags and testing kits, is the second-greatest cost driver. The proportion of pregnant and breastfeeding women living with HIV remains constant over the four-year period, in line with the targets set by the national HIV programme. ', 'key_words_info': {'key_words': ['HIV', 'sex'], 'counts': [4, 0]}, 'importance': 4, 'country': 'kenya'}\n",
      "{'_id': ObjectId('6093c92a2799b9616a6f8a16'), 'heading': '2.Summary of the 2016 HIV Guidelines on the Use of Antiretroviral Drugs for Treating and Preventing HIV Infection in Kenya ', 'text': 'This section summarises key programme areas covered in the 2016 HIV guidelines. (For a detailed description, see MOH and NASCOP, 2016). ', 'key_words_info': {'key_words': ['HIV', 'sex'], 'counts': [3, 0]}, 'importance': 3, 'country': 'kenya'}\n",
      "{'_id': ObjectId('6093c92a2799b9616a6f8a17'), 'heading': '5.9 Medicines for opportunistic diseases ', 'text': 'Figure 17 shows that the estimated cost of medicines for opportunistic diseases is projected to increase over time. This is consistent with the target of getting more people living with HIV into care over the projected period, as Kenya moves towards achieving the 90-90-90 targets under the test-and-treat policy. The new guidelines emphasise the need to put people living with HIV on medicines for opportunistic diseases to reduce their mortality rate. A lower mortality rate is expected to bring additional costs as demand for medicines for opportunistic diseases increases. The key driver of this programme cost is the cost for adults, which is not surprising as adults account for the bulk of people living with HIV. ', 'key_words_info': {'key_words': ['HIV', 'sex'], 'counts': [3, 0]}, 'importance': 3, 'country': 'kenya'}\n",
      "{'_id': ObjectId('6093c92a2799b9616a6f8a18'), 'heading': '5.6 Pre-exposure prophylaxis ', 'text': 'Figure 11 shows the cost of providing PrEP under the NASCOP scenario. This cost will increase to more than double current levels in the next four years as a result of increases in HIV-negative key populations under this prevention programme. The key cost driver under this programme is the regimen cost (the cost of ARVs), which increases over the entire period. However, the cost of HIV testing is also significant due to the numerous tests expected under this prevention programme.', 'key_words_info': {'key_words': ['HIV', 'sex'], 'counts': [2, 0]}, 'importance': 2, 'country': 'kenya'}\n",
      "{'_id': ObjectId('6093c92a2799b9616a6f8a19'), 'heading': '5.8 NCDs and other co-morbidity ', 'text': 'The 2016 ART guidelines recommend screening among people living with HIV for key NCDs and co-morbidities, including cancer, high blood pressure, hepatitis B and C, diabetes, and liver functions. Figure 15 shows the estimated cost of screening for these NCDs and co-morbidities under the NASCOP scenario. Screening for cervical cancer, diabetes, and cholesterol are the main cost drivers for this new programme area. The estimates show rising costs in line with an increased incidence rate of NCDs and co-morbidities over the time periods, given that the NASCOP scenario expects to put more people living with HIV on treatment in the future and that the incidence rate is positive over the entire period. ', 'key_words_info': {'key_words': ['HIV', 'sex'], 'counts': [2, 0]}, 'importance': 2, 'country': 'kenya'}\n",
      "{'_id': ObjectId('6093c92a2799b9616a6f8a1a'), 'heading': '1.1 Context  ', 'text': 'HIV and AIDS remain a major public health problem in Kenya. Therefore, there is continued need for guidance from the Ministry of Health (MOH) and other key stakeholders on how to manage current and new infections. According to the ', 'key_words_info': {'key_words': ['HIV', 'sex'], 'counts': [1, 0]}, 'importance': 1, 'country': 'kenya'}\n",
      "{'_id': ObjectId('6093c92a2799b9616a6f8a1b'), 'heading': '1.2 Study Objectives ', 'text': 'The costing exercise addresses two questions: a)What is the cost of implementing the 2016 ART guidelines based on the country targets? b)What is the total cost of implementing the 2016 ART guidelines to cover 100 percent of known people living with HIV? ', 'key_words_info': {'key_words': ['HIV', 'sex'], 'counts': [1, 0]}, 'importance': 1, 'country': 'kenya'}\n",
      "{'_id': ObjectId('6093c92a2799b9616a6f8a1c'), 'heading': '5. Costing Results ', 'text': 'This section presents the estimated cost of HIV treatment and prevention, based on the revised 2016 guidelines. The data shows the aggregated cost estimated for the NASCOP and Standard scenarios. This is followed by a disaggregation of these costs by programme area, and compared across two scenarios to provide some insight on what the guideline implementation would cost in the next four years. ', 'key_words_info': {'key_words': ['HIV', 'sex'], 'counts': [1, 0]}, 'importance': 1, 'country': 'kenya'}\n",
      "{'_id': ObjectId('6093c92a2799b9616a6f8a1d'), 'heading': '5.1 Estimated HIV programme costs between NASCOP and Standard scenarios ', 'text': 'The results presented in Table 1 show that the average unit cost of putting a patient on ARVs per year is Ksh 12,032.4 (US$115.7). The unit cost varies by regimen type, with the unit cost of an adult first-line ARV regimen at Ksh 9,501.44 (US$91.4) and second-line at Ksh 26,499.20 (US$254.8) per year. On the other hand, the annual unit cost of pediatric ARVs is 17,800.64 (US$171.2) per patient. ', 'key_words_info': {'key_words': ['HIV', 'sex'], 'counts': [1, 0]}, 'importance': 1, 'country': 'kenya'}\n",
      "{'_id': ObjectId('6093c92a2799b9616a6f8a1e'), 'heading': '5.4 Cost of post-exposure prophylaxis ', 'text': 'The costs of providing PEP under the NASCOP and Standard scenarios were equal at Ksh 555.7 million (US$5.3 million), structured as shown in Figure 8. The lack of variation between the two scenarios is explained by an assumption that an equal population will require PEP in both cases, because PEP population estimates were based on programme data and are the same in both scenarios. It is also assumed that ARVs for PEP are included under general adult ARV cost estimates. Therefore, the main cost elements were identified as additional HIV testing and kidney tests needed for the PEP programme due to use of a TDF regimen. 13 ', 'key_words_info': {'key_words': ['HIV', 'sex'], 'counts': [1, 0]}, 'importance': 1, 'country': 'kenya'}\n",
      "{'_id': ObjectId('6093c92a2799b9616a6f8a1f'), 'heading': '7.Study Limitations ', 'text': '1.The only data available on mortality rates for people living with HIV comes from the mortuary survey. This study is not representative of the current nationwide attrition rate, as it is based on Nairobi County data. A mortuary survey should be administered nationwide to create a countrywide database for attrition rate. 2.The costing model has not incorporated a six-month buffer stock, as this was not in the scope of the study. The model, however, can be customised to capture the buffer stock when used for commodity quantification for processes such as the Global Fund application. 3.The estimates for non-medical costs were based on the ', 'key_words_info': {'key_words': ['HIV', 'sex'], 'counts': [1, 0]}, 'importance': 1, 'country': 'kenya'}\n",
      "{'_id': ObjectId('6093c9f92799b9616a6f8a20'), 'heading': '6. Conclusions ', 'text': 'The costing of HIV interventions in this study is based on 2016 HIV guidelines and considers two scenarios: NASCOP and Standard. The NASCOP scenario was based on national HIV programme targets towards achievement of 90-90-90, and the Standard scenario was based on the assumption that the guidelines would be fully implemented as spelt out in the 2016 ART guidelines. In the NASCOP scenario, the population base is assumed to be constant for the four-year costing projections, while the Standard scenario adjusts its population in need to consider incidence, mortality, and population growth rates. However, both scenarios considered two key assumptions: the gains obtained from the reduction in HIV mortality and the reduction in HIV incidence rates. Findings have shown that the average annual cost of putting a patient on ARVs is Ksh 12,032.36 (US$115.7). The Standard scenario costs more than the NASCOP scenario, although differences vary across programme areas. The key biomedical cost drivers in both scenarios were ARTs and laboratory management. Although non-biomedical interventions seemed to be a cost driver, these cost estimates were derived as a proportion of the total cost based on the report of a cost study of HIV treatment conducted in 2013 (U.S. Centers for Diseases Control and Kenya Ministry of Health, (2013), which had an in-depth micro-costing of both medical and non-medical HIV programme interventions. In conclusion, there is an expected escalation in future costs with the implementation of the new 2016 ART guidelines. This is due to inclusion of more people living with HIV in care and treatment programmes, and further enhanced by a reduction in HIV-related mortality. The inclusion of PrEP and PEP as prevention measures might have a significant impact on reducing the HIV incidence rate. This will, however, come with a considerable increase in the resources needed to fund interventions. Therefore, the key policy interventions introduced in the new guidelines center on prevention and acceleration of treatment aimed at reducing HIV incidence rates and related mortalities. This calls for resources to cover an increased number of people targeted for care and treatment programmes. A lowered mortality rate achieved through an ART programme implies increased HIV costs, as the number of people living with HIV who require HIV care will also increase. Kenya must explore channels for financing its increased need for HIV care and treatment. These could include coverage of HIV services in health insurance benefits packages (social or private health insurance), increased domestic resource mobilisation (including allocations from national and county governments), and engaging the private sector to play a bigger role in HIV financing. 20', 'key_words_info': {'key_words': ['HIV', 'sex'], 'counts': [17, 0]}, 'importance': 17}\n",
      "{'_id': ObjectId('6093c9f92799b9616a6f8a21'), 'heading': 'Executive Summary ', 'text': 'In 2016, the Ministry of Health (MOH) updated Kenya’s national HIV guidelines to provide guidance on the use of antiretrovirals (ARVs) to treat and prevent HIV infection. To inform implementation and resource mobilisation, the MOH needed to understand the costing implications of implementing the new guidelines. This created the need for a study to estimate the costs of implementing the new guidelines, based on the country targets and covering all known people living with HIV in Kenya. This study adopted a micro-costing approach using population data from 2015 HIV revised estimates. The study considered two costing scenarios—the “NASCOP scenario,” based on NASCOP (National AIDS/STI Control Programme) targets to achieve the UNAIDS 90-90-90 targets; and the “Standard scenario,” based on full adoption of the new guidelines. The results show that the average annual unit cost of an adult on ARVs is Ksh 12,032.36 (US$115.7). The unit cost varies by regimen type, with the unit cost of an adults first-line regimen being Ksh 9,501.44 (US$91.4) per year, compared to Ksh 26,499.20 (US$254.8) for second-line. The annual unit cost of pediatric ARVs was estimated at Ksh 17,800.64 (US$171.2) per patient. As shown in Table E1, implementation of the new antiretroviral therapy (ART) guidelines under the Standard scenario will cost about 20 percent more than under the NASCOP scenario. The estimated cost of implementingthe new guidelines under the NASCOP and Standard scenarios in the next four years (FY2016/17–2019/20) is Ksh 197.8 billion (US$1.9 billion) and Ksh 239.2 billion (US$2.3 billion), respectively. The higher costs under the Standard scenario can explained by the higher number of people living with HIV expected to be initiated on treatment. In both scenarios, key commodities (ARVs, laboratory management, and test kits) are the main cost drivers, accounting for 61 percent of the total cost (seeTable E1). ', 'key_words_info': {'key_words': ['HIV', 'sex'], 'counts': [5, 0]}, 'importance': 5}\n",
      "{'_id': ObjectId('6093c9f92799b9616a6f8a22'), 'heading': '5.7 HIV testing services for the general population   ', 'text': 'Under the NASCOP scenario, HIV testing services cost approximately Ksh 1 billion (US$10 million) in 2016/17 (see Figure 13). The total cost drops over the two subsequent periods and then increases slightly in the last period. Key cost drivers for HIV testing services are the HIV rapid kits, at a cost of approximately Ksh 936 million (US$9 million), and blood collection bags. The reason for the low estimated costs for confirmatory tests is that the test is only administered to people who have tested positive from the HIV rapid kits—this is expected to be a small proportion of the total population under testing. ', 'key_words_info': {'key_words': ['HIV', 'sex'], 'counts': [5, 0]}, 'importance': 5}\n",
      "{'_id': ObjectId('6093c9f92799b9616a6f8a23'), 'heading': 'List of Figures ', 'text': 'Figure E1: Relative Costs for NCD Screening, by Disease (FY2016/17–2019/20) .......... ix Figure 1: Linkages between Key Programmatic Areas and Costing Framework for 2016 HIV Guidelines ................................................................................................... 6 Figure 2: Trend in the Costs of HIV 2016 Guideline Implementation ........................... 10 Figure 3: Costs of Routine Adult and Pediatric ARVs under NASCOP Scenario............ 10 Figure 4: Trend in Costs of Providing ARVs for Care and Treatment ............................. 11 Figure 5: Laboratory Management: Adults versus Pediatrics, NASCOP Scenario .......... 11 Figure 6: Costs of Laboratory Management between NASCOP and Standard Scenarios ......................................................................................................... 12 Figure 7: Costs of Viral Load Test ................................................................................... 12 Figure 8: Cost for PEP, NASCOP and Standard Scenarios ............................................. 13 Figure 9: PMTCT, NASCOP Scenario ............................................................................. 13 Figure 10: PMTCT Costs, NASCOP versus Standard Scenarios ..................................... 14 Figure 11: PrEP, NASCOP Scenario ................................................................................ 14 Figure 12: PrEP, NASCOP versus Standard Scenarios ................................................... 15 Figure 13: HIV Testing Services Cost Estimates, NASCOP Scenario.............................. 15 Figure 14: HIV Testing Services Cost Estimates, NASCOP versus Standard Scenarios ......................................................................................................... 16 Figure 15: Screening NCD and Co-morbidities, NASCOP Scenario ............................... 16 Figure 16: Screening for NCDs and Co-morbidities, NASCOP versus Standard Scenarios ......................................................................................................... 17 Figure 17: Medicines for Opportunistic Diseases, NASCOP Scenario ............................ 17 Figure 18: Medicines for Opportunistic Diseases, NASCOP versus Standard Scenarios ......................................................................................................... 18 v ', 'key_words_info': {'key_words': ['HIV', 'sex'], 'counts': [4, 0]}, 'importance': 4}\n",
      "{'_id': ObjectId('6093c9f92799b9616a6f8a24'), 'heading': '5.5 Prevention of mother-to-child transmission ', 'text': 'Figure 9 shows the estimated cost of PMTCT using the NASCOP scenario. The PMTCT costs incorporate three estimated cost components: rapid HIV testing for pregnant mothers, early infant diagnosis (or infant PCR test), and prophylaxis (the primary cost driver). HIV rapid testing for pregnant mothers, which includes blood collection bags and testing kits, is the second-greatest cost driver. The proportion of pregnant and breastfeeding women living with HIV remains constant over the four-year period, in line with the targets set by the national HIV programme. ', 'key_words_info': {'key_words': ['HIV', 'sex'], 'counts': [4, 0]}, 'importance': 4}\n",
      "{'_id': ObjectId('6093c9f92799b9616a6f8a25'), 'heading': '2.Summary of the 2016 HIV Guidelines on the Use of Antiretroviral Drugs for Treating and Preventing HIV Infection in Kenya ', 'text': 'This section summarises key programme areas covered in the 2016 HIV guidelines. (For a detailed description, see MOH and NASCOP, 2016). ', 'key_words_info': {'key_words': ['HIV', 'sex'], 'counts': [3, 0]}, 'importance': 3}\n",
      "{'_id': ObjectId('6093c9f92799b9616a6f8a26'), 'heading': '5.9 Medicines for opportunistic diseases ', 'text': 'Figure 17 shows that the estimated cost of medicines for opportunistic diseases is projected to increase over time. This is consistent with the target of getting more people living with HIV into care over the projected period, as Kenya moves towards achieving the 90-90-90 targets under the test-and-treat policy. The new guidelines emphasise the need to put people living with HIV on medicines for opportunistic diseases to reduce their mortality rate. A lower mortality rate is expected to bring additional costs as demand for medicines for opportunistic diseases increases. The key driver of this programme cost is the cost for adults, which is not surprising as adults account for the bulk of people living with HIV. ', 'key_words_info': {'key_words': ['HIV', 'sex'], 'counts': [3, 0]}, 'importance': 3}\n",
      "{'_id': ObjectId('6093c9f92799b9616a6f8a27'), 'heading': '5.6 Pre-exposure prophylaxis ', 'text': 'Figure 11 shows the cost of providing PrEP under the NASCOP scenario. This cost will increase to more than double current levels in the next four years as a result of increases in HIV-negative key populations under this prevention programme. The key cost driver under this programme is the regimen cost (the cost of ARVs), which increases over the entire period. However, the cost of HIV testing is also significant due to the numerous tests expected under this prevention programme.', 'key_words_info': {'key_words': ['HIV', 'sex'], 'counts': [2, 0]}, 'importance': 2}\n",
      "{'_id': ObjectId('6093c9f92799b9616a6f8a28'), 'heading': '5.8 NCDs and other co-morbidity ', 'text': 'The 2016 ART guidelines recommend screening among people living with HIV for key NCDs and co-morbidities, including cancer, high blood pressure, hepatitis B and C, diabetes, and liver functions. Figure 15 shows the estimated cost of screening for these NCDs and co-morbidities under the NASCOP scenario. Screening for cervical cancer, diabetes, and cholesterol are the main cost drivers for this new programme area. The estimates show rising costs in line with an increased incidence rate of NCDs and co-morbidities over the time periods, given that the NASCOP scenario expects to put more people living with HIV on treatment in the future and that the incidence rate is positive over the entire period. ', 'key_words_info': {'key_words': ['HIV', 'sex'], 'counts': [2, 0]}, 'importance': 2}\n",
      "{'_id': ObjectId('6093c9f92799b9616a6f8a29'), 'heading': '1.1 Context  ', 'text': 'HIV and AIDS remain a major public health problem in Kenya. Therefore, there is continued need for guidance from the Ministry of Health (MOH) and other key stakeholders on how to manage current and new infections. According to the ', 'key_words_info': {'key_words': ['HIV', 'sex'], 'counts': [1, 0]}, 'importance': 1}\n",
      "{'_id': ObjectId('6093c9f92799b9616a6f8a2a'), 'heading': '1.2 Study Objectives ', 'text': 'The costing exercise addresses two questions: a)What is the cost of implementing the 2016 ART guidelines based on the country targets? b)What is the total cost of implementing the 2016 ART guidelines to cover 100 percent of known people living with HIV? ', 'key_words_info': {'key_words': ['HIV', 'sex'], 'counts': [1, 0]}, 'importance': 1}\n",
      "{'_id': ObjectId('6093c9f92799b9616a6f8a2b'), 'heading': '5. Costing Results ', 'text': 'This section presents the estimated cost of HIV treatment and prevention, based on the revised 2016 guidelines. The data shows the aggregated cost estimated for the NASCOP and Standard scenarios. This is followed by a disaggregation of these costs by programme area, and compared across two scenarios to provide some insight on what the guideline implementation would cost in the next four years. ', 'key_words_info': {'key_words': ['HIV', 'sex'], 'counts': [1, 0]}, 'importance': 1}\n",
      "{'_id': ObjectId('6093c9f92799b9616a6f8a2c'), 'heading': '5.1 Estimated HIV programme costs between NASCOP and Standard scenarios ', 'text': 'The results presented in Table 1 show that the average unit cost of putting a patient on ARVs per year is Ksh 12,032.4 (US$115.7). The unit cost varies by regimen type, with the unit cost of an adult first-line ARV regimen at Ksh 9,501.44 (US$91.4) and second-line at Ksh 26,499.20 (US$254.8) per year. On the other hand, the annual unit cost of pediatric ARVs is 17,800.64 (US$171.2) per patient. ', 'key_words_info': {'key_words': ['HIV', 'sex'], 'counts': [1, 0]}, 'importance': 1}\n",
      "{'_id': ObjectId('6093c9f92799b9616a6f8a2d'), 'heading': '5.4 Cost of post-exposure prophylaxis ', 'text': 'The costs of providing PEP under the NASCOP and Standard scenarios were equal at Ksh 555.7 million (US$5.3 million), structured as shown in Figure 8. The lack of variation between the two scenarios is explained by an assumption that an equal population will require PEP in both cases, because PEP population estimates were based on programme data and are the same in both scenarios. It is also assumed that ARVs for PEP are included under general adult ARV cost estimates. Therefore, the main cost elements were identified as additional HIV testing and kidney tests needed for the PEP programme due to use of a TDF regimen. 13 ', 'key_words_info': {'key_words': ['HIV', 'sex'], 'counts': [1, 0]}, 'importance': 1}\n",
      "{'_id': ObjectId('6093c9f92799b9616a6f8a2e'), 'heading': '7.Study Limitations ', 'text': '1.The only data available on mortality rates for people living with HIV comes from the mortuary survey. This study is not representative of the current nationwide attrition rate, as it is based on Nairobi County data. A mortuary survey should be administered nationwide to create a countrywide database for attrition rate. 2.The costing model has not incorporated a six-month buffer stock, as this was not in the scope of the study. The model, however, can be customised to capture the buffer stock when used for commodity quantification for processes such as the Global Fund application. 3.The estimates for non-medical costs were based on the ', 'key_words_info': {'key_words': ['HIV', 'sex'], 'counts': [1, 0]}, 'importance': 1}\n"
     ]
    }
   ],
   "source": [
    "cursor = mycollection.find()\n",
    "for record in cursor:\n",
    "    print(record)"
   ]
  },
  {
   "cell_type": "code",
   "execution_count": 57,
   "id": "2c81457d",
   "metadata": {},
   "outputs": [
    {
     "name": "stdout",
     "output_type": "stream",
     "text": [
      "{'_id': ObjectId('6093c92a2799b9616a6f8a11'), 'heading': '6. Conclusions ', 'text': 'The costing of HIV interventions in this study is based on 2016 HIV guidelines and considers two scenarios: NASCOP and Standard. The NASCOP scenario was based on national HIV programme targets towards achievement of 90-90-90, and the Standard scenario was based on the assumption that the guidelines would be fully implemented as spelt out in the 2016 ART guidelines. In the NASCOP scenario, the population base is assumed to be constant for the four-year costing projections, while the Standard scenario adjusts its population in need to consider incidence, mortality, and population growth rates. However, both scenarios considered two key assumptions: the gains obtained from the reduction in HIV mortality and the reduction in HIV incidence rates. Findings have shown that the average annual cost of putting a patient on ARVs is Ksh 12,032.36 (US$115.7). The Standard scenario costs more than the NASCOP scenario, although differences vary across programme areas. The key biomedical cost drivers in both scenarios were ARTs and laboratory management. Although non-biomedical interventions seemed to be a cost driver, these cost estimates were derived as a proportion of the total cost based on the report of a cost study of HIV treatment conducted in 2013 (U.S. Centers for Diseases Control and Kenya Ministry of Health, (2013), which had an in-depth micro-costing of both medical and non-medical HIV programme interventions. In conclusion, there is an expected escalation in future costs with the implementation of the new 2016 ART guidelines. This is due to inclusion of more people living with HIV in care and treatment programmes, and further enhanced by a reduction in HIV-related mortality. The inclusion of PrEP and PEP as prevention measures might have a significant impact on reducing the HIV incidence rate. This will, however, come with a considerable increase in the resources needed to fund interventions. Therefore, the key policy interventions introduced in the new guidelines center on prevention and acceleration of treatment aimed at reducing HIV incidence rates and related mortalities. This calls for resources to cover an increased number of people targeted for care and treatment programmes. A lowered mortality rate achieved through an ART programme implies increased HIV costs, as the number of people living with HIV who require HIV care will also increase. Kenya must explore channels for financing its increased need for HIV care and treatment. These could include coverage of HIV services in health insurance benefits packages (social or private health insurance), increased domestic resource mobilisation (including allocations from national and county governments), and engaging the private sector to play a bigger role in HIV financing. 20', 'key_words_info': {'key_words': ['HIV', 'sex'], 'counts': [17, 0]}, 'importance': 17, 'country': 'kenya'}\n"
     ]
    }
   ],
   "source": [
    "# Find first document\n",
    "x = mycollection.find_one()\n",
    "print(x)"
   ]
  },
  {
   "cell_type": "code",
   "execution_count": 58,
   "id": "39969cb2",
   "metadata": {},
   "outputs": [
    {
     "data": {
      "text/plain": [
       "dict_keys(['_id', 'heading', 'text', 'key_words_info', 'importance', 'country'])"
      ]
     },
     "execution_count": 58,
     "metadata": {},
     "output_type": "execute_result"
    }
   ],
   "source": [
    "x.keys()"
   ]
  },
  {
   "cell_type": "code",
   "execution_count": 64,
   "id": "88b6eebb",
   "metadata": {},
   "outputs": [],
   "source": [
    "# Filtering the Quantities greater\n",
    "# than 40 using query.\n",
    "cursor = mycollection.find({\"importance\": {\"$lt\": 10}})"
   ]
  },
  {
   "cell_type": "code",
   "execution_count": 65,
   "id": "7034c63f",
   "metadata": {},
   "outputs": [
    {
     "name": "stdout",
     "output_type": "stream",
     "text": [
      "The data having Quantity greater than 40 is:\n",
      "{'_id': ObjectId('6093c92a2799b9616a6f8a12'), 'heading': 'Executive Summary ', 'text': 'In 2016, the Ministry of Health (MOH) updated Kenya’s national HIV guidelines to provide guidance on the use of antiretrovirals (ARVs) to treat and prevent HIV infection. To inform implementation and resource mobilisation, the MOH needed to understand the costing implications of implementing the new guidelines. This created the need for a study to estimate the costs of implementing the new guidelines, based on the country targets and covering all known people living with HIV in Kenya. This study adopted a micro-costing approach using population data from 2015 HIV revised estimates. The study considered two costing scenarios—the “NASCOP scenario,” based on NASCOP (National AIDS/STI Control Programme) targets to achieve the UNAIDS 90-90-90 targets; and the “Standard scenario,” based on full adoption of the new guidelines. The results show that the average annual unit cost of an adult on ARVs is Ksh 12,032.36 (US$115.7). The unit cost varies by regimen type, with the unit cost of an adults first-line regimen being Ksh 9,501.44 (US$91.4) per year, compared to Ksh 26,499.20 (US$254.8) for second-line. The annual unit cost of pediatric ARVs was estimated at Ksh 17,800.64 (US$171.2) per patient. As shown in Table E1, implementation of the new antiretroviral therapy (ART) guidelines under the Standard scenario will cost about 20 percent more than under the NASCOP scenario. The estimated cost of implementingthe new guidelines under the NASCOP and Standard scenarios in the next four years (FY2016/17–2019/20) is Ksh 197.8 billion (US$1.9 billion) and Ksh 239.2 billion (US$2.3 billion), respectively. The higher costs under the Standard scenario can explained by the higher number of people living with HIV expected to be initiated on treatment. In both scenarios, key commodities (ARVs, laboratory management, and test kits) are the main cost drivers, accounting for 61 percent of the total cost (seeTable E1). ', 'key_words_info': {'key_words': ['HIV', 'sex'], 'counts': [5, 0]}, 'importance': 5, 'country': 'kenya'}\n",
      "{'_id': ObjectId('6093c92a2799b9616a6f8a13'), 'heading': '5.7 HIV testing services for the general population   ', 'text': 'Under the NASCOP scenario, HIV testing services cost approximately Ksh 1 billion (US$10 million) in 2016/17 (see Figure 13). The total cost drops over the two subsequent periods and then increases slightly in the last period. Key cost drivers for HIV testing services are the HIV rapid kits, at a cost of approximately Ksh 936 million (US$9 million), and blood collection bags. The reason for the low estimated costs for confirmatory tests is that the test is only administered to people who have tested positive from the HIV rapid kits—this is expected to be a small proportion of the total population under testing. ', 'key_words_info': {'key_words': ['HIV', 'sex'], 'counts': [5, 0]}, 'importance': 5, 'country': 'kenya'}\n",
      "{'_id': ObjectId('6093c92a2799b9616a6f8a14'), 'heading': 'List of Figures ', 'text': 'Figure E1: Relative Costs for NCD Screening, by Disease (FY2016/17–2019/20) .......... ix Figure 1: Linkages between Key Programmatic Areas and Costing Framework for 2016 HIV Guidelines ................................................................................................... 6 Figure 2: Trend in the Costs of HIV 2016 Guideline Implementation ........................... 10 Figure 3: Costs of Routine Adult and Pediatric ARVs under NASCOP Scenario............ 10 Figure 4: Trend in Costs of Providing ARVs for Care and Treatment ............................. 11 Figure 5: Laboratory Management: Adults versus Pediatrics, NASCOP Scenario .......... 11 Figure 6: Costs of Laboratory Management between NASCOP and Standard Scenarios ......................................................................................................... 12 Figure 7: Costs of Viral Load Test ................................................................................... 12 Figure 8: Cost for PEP, NASCOP and Standard Scenarios ............................................. 13 Figure 9: PMTCT, NASCOP Scenario ............................................................................. 13 Figure 10: PMTCT Costs, NASCOP versus Standard Scenarios ..................................... 14 Figure 11: PrEP, NASCOP Scenario ................................................................................ 14 Figure 12: PrEP, NASCOP versus Standard Scenarios ................................................... 15 Figure 13: HIV Testing Services Cost Estimates, NASCOP Scenario.............................. 15 Figure 14: HIV Testing Services Cost Estimates, NASCOP versus Standard Scenarios ......................................................................................................... 16 Figure 15: Screening NCD and Co-morbidities, NASCOP Scenario ............................... 16 Figure 16: Screening for NCDs and Co-morbidities, NASCOP versus Standard Scenarios ......................................................................................................... 17 Figure 17: Medicines for Opportunistic Diseases, NASCOP Scenario ............................ 17 Figure 18: Medicines for Opportunistic Diseases, NASCOP versus Standard Scenarios ......................................................................................................... 18 v ', 'key_words_info': {'key_words': ['HIV', 'sex'], 'counts': [4, 0]}, 'importance': 4, 'country': 'kenya'}\n",
      "{'_id': ObjectId('6093c92a2799b9616a6f8a15'), 'heading': '5.5 Prevention of mother-to-child transmission ', 'text': 'Figure 9 shows the estimated cost of PMTCT using the NASCOP scenario. The PMTCT costs incorporate three estimated cost components: rapid HIV testing for pregnant mothers, early infant diagnosis (or infant PCR test), and prophylaxis (the primary cost driver). HIV rapid testing for pregnant mothers, which includes blood collection bags and testing kits, is the second-greatest cost driver. The proportion of pregnant and breastfeeding women living with HIV remains constant over the four-year period, in line with the targets set by the national HIV programme. ', 'key_words_info': {'key_words': ['HIV', 'sex'], 'counts': [4, 0]}, 'importance': 4, 'country': 'kenya'}\n",
      "{'_id': ObjectId('6093c92a2799b9616a6f8a16'), 'heading': '2.Summary of the 2016 HIV Guidelines on the Use of Antiretroviral Drugs for Treating and Preventing HIV Infection in Kenya ', 'text': 'This section summarises key programme areas covered in the 2016 HIV guidelines. (For a detailed description, see MOH and NASCOP, 2016). ', 'key_words_info': {'key_words': ['HIV', 'sex'], 'counts': [3, 0]}, 'importance': 3, 'country': 'kenya'}\n",
      "{'_id': ObjectId('6093c92a2799b9616a6f8a17'), 'heading': '5.9 Medicines for opportunistic diseases ', 'text': 'Figure 17 shows that the estimated cost of medicines for opportunistic diseases is projected to increase over time. This is consistent with the target of getting more people living with HIV into care over the projected period, as Kenya moves towards achieving the 90-90-90 targets under the test-and-treat policy. The new guidelines emphasise the need to put people living with HIV on medicines for opportunistic diseases to reduce their mortality rate. A lower mortality rate is expected to bring additional costs as demand for medicines for opportunistic diseases increases. The key driver of this programme cost is the cost for adults, which is not surprising as adults account for the bulk of people living with HIV. ', 'key_words_info': {'key_words': ['HIV', 'sex'], 'counts': [3, 0]}, 'importance': 3, 'country': 'kenya'}\n",
      "{'_id': ObjectId('6093c92a2799b9616a6f8a18'), 'heading': '5.6 Pre-exposure prophylaxis ', 'text': 'Figure 11 shows the cost of providing PrEP under the NASCOP scenario. This cost will increase to more than double current levels in the next four years as a result of increases in HIV-negative key populations under this prevention programme. The key cost driver under this programme is the regimen cost (the cost of ARVs), which increases over the entire period. However, the cost of HIV testing is also significant due to the numerous tests expected under this prevention programme.', 'key_words_info': {'key_words': ['HIV', 'sex'], 'counts': [2, 0]}, 'importance': 2, 'country': 'kenya'}\n",
      "{'_id': ObjectId('6093c92a2799b9616a6f8a19'), 'heading': '5.8 NCDs and other co-morbidity ', 'text': 'The 2016 ART guidelines recommend screening among people living with HIV for key NCDs and co-morbidities, including cancer, high blood pressure, hepatitis B and C, diabetes, and liver functions. Figure 15 shows the estimated cost of screening for these NCDs and co-morbidities under the NASCOP scenario. Screening for cervical cancer, diabetes, and cholesterol are the main cost drivers for this new programme area. The estimates show rising costs in line with an increased incidence rate of NCDs and co-morbidities over the time periods, given that the NASCOP scenario expects to put more people living with HIV on treatment in the future and that the incidence rate is positive over the entire period. ', 'key_words_info': {'key_words': ['HIV', 'sex'], 'counts': [2, 0]}, 'importance': 2, 'country': 'kenya'}\n",
      "{'_id': ObjectId('6093c92a2799b9616a6f8a1a'), 'heading': '1.1 Context  ', 'text': 'HIV and AIDS remain a major public health problem in Kenya. Therefore, there is continued need for guidance from the Ministry of Health (MOH) and other key stakeholders on how to manage current and new infections. According to the ', 'key_words_info': {'key_words': ['HIV', 'sex'], 'counts': [1, 0]}, 'importance': 1, 'country': 'kenya'}\n",
      "{'_id': ObjectId('6093c92a2799b9616a6f8a1b'), 'heading': '1.2 Study Objectives ', 'text': 'The costing exercise addresses two questions: a)What is the cost of implementing the 2016 ART guidelines based on the country targets? b)What is the total cost of implementing the 2016 ART guidelines to cover 100 percent of known people living with HIV? ', 'key_words_info': {'key_words': ['HIV', 'sex'], 'counts': [1, 0]}, 'importance': 1, 'country': 'kenya'}\n",
      "{'_id': ObjectId('6093c92a2799b9616a6f8a1c'), 'heading': '5. Costing Results ', 'text': 'This section presents the estimated cost of HIV treatment and prevention, based on the revised 2016 guidelines. The data shows the aggregated cost estimated for the NASCOP and Standard scenarios. This is followed by a disaggregation of these costs by programme area, and compared across two scenarios to provide some insight on what the guideline implementation would cost in the next four years. ', 'key_words_info': {'key_words': ['HIV', 'sex'], 'counts': [1, 0]}, 'importance': 1, 'country': 'kenya'}\n",
      "{'_id': ObjectId('6093c92a2799b9616a6f8a1d'), 'heading': '5.1 Estimated HIV programme costs between NASCOP and Standard scenarios ', 'text': 'The results presented in Table 1 show that the average unit cost of putting a patient on ARVs per year is Ksh 12,032.4 (US$115.7). The unit cost varies by regimen type, with the unit cost of an adult first-line ARV regimen at Ksh 9,501.44 (US$91.4) and second-line at Ksh 26,499.20 (US$254.8) per year. On the other hand, the annual unit cost of pediatric ARVs is 17,800.64 (US$171.2) per patient. ', 'key_words_info': {'key_words': ['HIV', 'sex'], 'counts': [1, 0]}, 'importance': 1, 'country': 'kenya'}\n",
      "{'_id': ObjectId('6093c92a2799b9616a6f8a1e'), 'heading': '5.4 Cost of post-exposure prophylaxis ', 'text': 'The costs of providing PEP under the NASCOP and Standard scenarios were equal at Ksh 555.7 million (US$5.3 million), structured as shown in Figure 8. The lack of variation between the two scenarios is explained by an assumption that an equal population will require PEP in both cases, because PEP population estimates were based on programme data and are the same in both scenarios. It is also assumed that ARVs for PEP are included under general adult ARV cost estimates. Therefore, the main cost elements were identified as additional HIV testing and kidney tests needed for the PEP programme due to use of a TDF regimen. 13 ', 'key_words_info': {'key_words': ['HIV', 'sex'], 'counts': [1, 0]}, 'importance': 1, 'country': 'kenya'}\n",
      "{'_id': ObjectId('6093c92a2799b9616a6f8a1f'), 'heading': '7.Study Limitations ', 'text': '1.The only data available on mortality rates for people living with HIV comes from the mortuary survey. This study is not representative of the current nationwide attrition rate, as it is based on Nairobi County data. A mortuary survey should be administered nationwide to create a countrywide database for attrition rate. 2.The costing model has not incorporated a six-month buffer stock, as this was not in the scope of the study. The model, however, can be customised to capture the buffer stock when used for commodity quantification for processes such as the Global Fund application. 3.The estimates for non-medical costs were based on the ', 'key_words_info': {'key_words': ['HIV', 'sex'], 'counts': [1, 0]}, 'importance': 1, 'country': 'kenya'}\n",
      "{'_id': ObjectId('6093c9f92799b9616a6f8a21'), 'heading': 'Executive Summary ', 'text': 'In 2016, the Ministry of Health (MOH) updated Kenya’s national HIV guidelines to provide guidance on the use of antiretrovirals (ARVs) to treat and prevent HIV infection. To inform implementation and resource mobilisation, the MOH needed to understand the costing implications of implementing the new guidelines. This created the need for a study to estimate the costs of implementing the new guidelines, based on the country targets and covering all known people living with HIV in Kenya. This study adopted a micro-costing approach using population data from 2015 HIV revised estimates. The study considered two costing scenarios—the “NASCOP scenario,” based on NASCOP (National AIDS/STI Control Programme) targets to achieve the UNAIDS 90-90-90 targets; and the “Standard scenario,” based on full adoption of the new guidelines. The results show that the average annual unit cost of an adult on ARVs is Ksh 12,032.36 (US$115.7). The unit cost varies by regimen type, with the unit cost of an adults first-line regimen being Ksh 9,501.44 (US$91.4) per year, compared to Ksh 26,499.20 (US$254.8) for second-line. The annual unit cost of pediatric ARVs was estimated at Ksh 17,800.64 (US$171.2) per patient. As shown in Table E1, implementation of the new antiretroviral therapy (ART) guidelines under the Standard scenario will cost about 20 percent more than under the NASCOP scenario. The estimated cost of implementingthe new guidelines under the NASCOP and Standard scenarios in the next four years (FY2016/17–2019/20) is Ksh 197.8 billion (US$1.9 billion) and Ksh 239.2 billion (US$2.3 billion), respectively. The higher costs under the Standard scenario can explained by the higher number of people living with HIV expected to be initiated on treatment. In both scenarios, key commodities (ARVs, laboratory management, and test kits) are the main cost drivers, accounting for 61 percent of the total cost (seeTable E1). ', 'key_words_info': {'key_words': ['HIV', 'sex'], 'counts': [5, 0]}, 'importance': 5}\n",
      "{'_id': ObjectId('6093c9f92799b9616a6f8a22'), 'heading': '5.7 HIV testing services for the general population   ', 'text': 'Under the NASCOP scenario, HIV testing services cost approximately Ksh 1 billion (US$10 million) in 2016/17 (see Figure 13). The total cost drops over the two subsequent periods and then increases slightly in the last period. Key cost drivers for HIV testing services are the HIV rapid kits, at a cost of approximately Ksh 936 million (US$9 million), and blood collection bags. The reason for the low estimated costs for confirmatory tests is that the test is only administered to people who have tested positive from the HIV rapid kits—this is expected to be a small proportion of the total population under testing. ', 'key_words_info': {'key_words': ['HIV', 'sex'], 'counts': [5, 0]}, 'importance': 5}\n",
      "{'_id': ObjectId('6093c9f92799b9616a6f8a23'), 'heading': 'List of Figures ', 'text': 'Figure E1: Relative Costs for NCD Screening, by Disease (FY2016/17–2019/20) .......... ix Figure 1: Linkages between Key Programmatic Areas and Costing Framework for 2016 HIV Guidelines ................................................................................................... 6 Figure 2: Trend in the Costs of HIV 2016 Guideline Implementation ........................... 10 Figure 3: Costs of Routine Adult and Pediatric ARVs under NASCOP Scenario............ 10 Figure 4: Trend in Costs of Providing ARVs for Care and Treatment ............................. 11 Figure 5: Laboratory Management: Adults versus Pediatrics, NASCOP Scenario .......... 11 Figure 6: Costs of Laboratory Management between NASCOP and Standard Scenarios ......................................................................................................... 12 Figure 7: Costs of Viral Load Test ................................................................................... 12 Figure 8: Cost for PEP, NASCOP and Standard Scenarios ............................................. 13 Figure 9: PMTCT, NASCOP Scenario ............................................................................. 13 Figure 10: PMTCT Costs, NASCOP versus Standard Scenarios ..................................... 14 Figure 11: PrEP, NASCOP Scenario ................................................................................ 14 Figure 12: PrEP, NASCOP versus Standard Scenarios ................................................... 15 Figure 13: HIV Testing Services Cost Estimates, NASCOP Scenario.............................. 15 Figure 14: HIV Testing Services Cost Estimates, NASCOP versus Standard Scenarios ......................................................................................................... 16 Figure 15: Screening NCD and Co-morbidities, NASCOP Scenario ............................... 16 Figure 16: Screening for NCDs and Co-morbidities, NASCOP versus Standard Scenarios ......................................................................................................... 17 Figure 17: Medicines for Opportunistic Diseases, NASCOP Scenario ............................ 17 Figure 18: Medicines for Opportunistic Diseases, NASCOP versus Standard Scenarios ......................................................................................................... 18 v ', 'key_words_info': {'key_words': ['HIV', 'sex'], 'counts': [4, 0]}, 'importance': 4}\n",
      "{'_id': ObjectId('6093c9f92799b9616a6f8a24'), 'heading': '5.5 Prevention of mother-to-child transmission ', 'text': 'Figure 9 shows the estimated cost of PMTCT using the NASCOP scenario. The PMTCT costs incorporate three estimated cost components: rapid HIV testing for pregnant mothers, early infant diagnosis (or infant PCR test), and prophylaxis (the primary cost driver). HIV rapid testing for pregnant mothers, which includes blood collection bags and testing kits, is the second-greatest cost driver. The proportion of pregnant and breastfeeding women living with HIV remains constant over the four-year period, in line with the targets set by the national HIV programme. ', 'key_words_info': {'key_words': ['HIV', 'sex'], 'counts': [4, 0]}, 'importance': 4}\n",
      "{'_id': ObjectId('6093c9f92799b9616a6f8a25'), 'heading': '2.Summary of the 2016 HIV Guidelines on the Use of Antiretroviral Drugs for Treating and Preventing HIV Infection in Kenya ', 'text': 'This section summarises key programme areas covered in the 2016 HIV guidelines. (For a detailed description, see MOH and NASCOP, 2016). ', 'key_words_info': {'key_words': ['HIV', 'sex'], 'counts': [3, 0]}, 'importance': 3}\n",
      "{'_id': ObjectId('6093c9f92799b9616a6f8a26'), 'heading': '5.9 Medicines for opportunistic diseases ', 'text': 'Figure 17 shows that the estimated cost of medicines for opportunistic diseases is projected to increase over time. This is consistent with the target of getting more people living with HIV into care over the projected period, as Kenya moves towards achieving the 90-90-90 targets under the test-and-treat policy. The new guidelines emphasise the need to put people living with HIV on medicines for opportunistic diseases to reduce their mortality rate. A lower mortality rate is expected to bring additional costs as demand for medicines for opportunistic diseases increases. The key driver of this programme cost is the cost for adults, which is not surprising as adults account for the bulk of people living with HIV. ', 'key_words_info': {'key_words': ['HIV', 'sex'], 'counts': [3, 0]}, 'importance': 3}\n",
      "{'_id': ObjectId('6093c9f92799b9616a6f8a27'), 'heading': '5.6 Pre-exposure prophylaxis ', 'text': 'Figure 11 shows the cost of providing PrEP under the NASCOP scenario. This cost will increase to more than double current levels in the next four years as a result of increases in HIV-negative key populations under this prevention programme. The key cost driver under this programme is the regimen cost (the cost of ARVs), which increases over the entire period. However, the cost of HIV testing is also significant due to the numerous tests expected under this prevention programme.', 'key_words_info': {'key_words': ['HIV', 'sex'], 'counts': [2, 0]}, 'importance': 2}\n",
      "{'_id': ObjectId('6093c9f92799b9616a6f8a28'), 'heading': '5.8 NCDs and other co-morbidity ', 'text': 'The 2016 ART guidelines recommend screening among people living with HIV for key NCDs and co-morbidities, including cancer, high blood pressure, hepatitis B and C, diabetes, and liver functions. Figure 15 shows the estimated cost of screening for these NCDs and co-morbidities under the NASCOP scenario. Screening for cervical cancer, diabetes, and cholesterol are the main cost drivers for this new programme area. The estimates show rising costs in line with an increased incidence rate of NCDs and co-morbidities over the time periods, given that the NASCOP scenario expects to put more people living with HIV on treatment in the future and that the incidence rate is positive over the entire period. ', 'key_words_info': {'key_words': ['HIV', 'sex'], 'counts': [2, 0]}, 'importance': 2}\n",
      "{'_id': ObjectId('6093c9f92799b9616a6f8a29'), 'heading': '1.1 Context  ', 'text': 'HIV and AIDS remain a major public health problem in Kenya. Therefore, there is continued need for guidance from the Ministry of Health (MOH) and other key stakeholders on how to manage current and new infections. According to the ', 'key_words_info': {'key_words': ['HIV', 'sex'], 'counts': [1, 0]}, 'importance': 1}\n",
      "{'_id': ObjectId('6093c9f92799b9616a6f8a2a'), 'heading': '1.2 Study Objectives ', 'text': 'The costing exercise addresses two questions: a)What is the cost of implementing the 2016 ART guidelines based on the country targets? b)What is the total cost of implementing the 2016 ART guidelines to cover 100 percent of known people living with HIV? ', 'key_words_info': {'key_words': ['HIV', 'sex'], 'counts': [1, 0]}, 'importance': 1}\n",
      "{'_id': ObjectId('6093c9f92799b9616a6f8a2b'), 'heading': '5. Costing Results ', 'text': 'This section presents the estimated cost of HIV treatment and prevention, based on the revised 2016 guidelines. The data shows the aggregated cost estimated for the NASCOP and Standard scenarios. This is followed by a disaggregation of these costs by programme area, and compared across two scenarios to provide some insight on what the guideline implementation would cost in the next four years. ', 'key_words_info': {'key_words': ['HIV', 'sex'], 'counts': [1, 0]}, 'importance': 1}\n",
      "{'_id': ObjectId('6093c9f92799b9616a6f8a2c'), 'heading': '5.1 Estimated HIV programme costs between NASCOP and Standard scenarios ', 'text': 'The results presented in Table 1 show that the average unit cost of putting a patient on ARVs per year is Ksh 12,032.4 (US$115.7). The unit cost varies by regimen type, with the unit cost of an adult first-line ARV regimen at Ksh 9,501.44 (US$91.4) and second-line at Ksh 26,499.20 (US$254.8) per year. On the other hand, the annual unit cost of pediatric ARVs is 17,800.64 (US$171.2) per patient. ', 'key_words_info': {'key_words': ['HIV', 'sex'], 'counts': [1, 0]}, 'importance': 1}\n",
      "{'_id': ObjectId('6093c9f92799b9616a6f8a2d'), 'heading': '5.4 Cost of post-exposure prophylaxis ', 'text': 'The costs of providing PEP under the NASCOP and Standard scenarios were equal at Ksh 555.7 million (US$5.3 million), structured as shown in Figure 8. The lack of variation between the two scenarios is explained by an assumption that an equal population will require PEP in both cases, because PEP population estimates were based on programme data and are the same in both scenarios. It is also assumed that ARVs for PEP are included under general adult ARV cost estimates. Therefore, the main cost elements were identified as additional HIV testing and kidney tests needed for the PEP programme due to use of a TDF regimen. 13 ', 'key_words_info': {'key_words': ['HIV', 'sex'], 'counts': [1, 0]}, 'importance': 1}\n",
      "{'_id': ObjectId('6093c9f92799b9616a6f8a2e'), 'heading': '7.Study Limitations ', 'text': '1.The only data available on mortality rates for people living with HIV comes from the mortuary survey. This study is not representative of the current nationwide attrition rate, as it is based on Nairobi County data. A mortuary survey should be administered nationwide to create a countrywide database for attrition rate. 2.The costing model has not incorporated a six-month buffer stock, as this was not in the scope of the study. The model, however, can be customised to capture the buffer stock when used for commodity quantification for processes such as the Global Fund application. 3.The estimates for non-medical costs were based on the ', 'key_words_info': {'key_words': ['HIV', 'sex'], 'counts': [1, 0]}, 'importance': 1}\n"
     ]
    }
   ],
   "source": [
    "print(\"The data having Quantity greater than 40 is:\")\n",
    "for record in cursor: \n",
    "    print(record) "
   ]
  },
  {
   "cell_type": "code",
   "execution_count": null,
   "id": "1e2c9558",
   "metadata": {},
   "outputs": [],
   "source": [
    "filter = { 'appliance': 'tv' }"
   ]
  }
 ],
 "metadata": {
  "kernelspec": {
   "display_name": "Python 3.8.8 64-bit ('sum': conda)",
   "language": "python",
   "name": "python388jvsc74a57bd02ce0e3a8d7fc5f9aafeadb3c51918d18d98157851c7a9385b653ef486aeaa209"
  },
  "language_info": {
   "codemirror_mode": {
    "name": "ipython",
    "version": 3
   },
   "file_extension": ".py",
   "mimetype": "text/x-python",
   "name": "python",
   "nbconvert_exporter": "python",
   "pygments_lexer": "ipython3",
   "version": "3.8.8"
  }
 },
 "nbformat": 4,
 "nbformat_minor": 5
}
