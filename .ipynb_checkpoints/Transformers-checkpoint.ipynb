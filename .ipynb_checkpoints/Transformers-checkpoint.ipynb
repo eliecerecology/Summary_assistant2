{
 "cells": [
  {
   "cell_type": "code",
   "execution_count": 1,
   "id": "c2fa9cad",
   "metadata": {},
   "outputs": [],
   "source": [
    "import os\n",
    "import pandas as pd\n",
    "from operator import itemgetter\n",
    "from collections import Counter\n",
    "import re\n",
    "import pdf_parse_functions\n",
    "from transformers import pipeline"
   ]
  },
  {
   "cell_type": "code",
   "execution_count": 3,
   "id": "1ee6f533-1389-46b4-9ddd-f8136308454a",
   "metadata": {},
   "outputs": [],
   "source": [
    "summa = pipeline(\"summarization\")\n",
    "sentiment_analysis = pipeline('sentiment-analysis')"
   ]
  },
  {
   "cell_type": "code",
   "execution_count": 91,
   "id": "b5279342",
   "metadata": {},
   "outputs": [],
   "source": [
    "datapath = \"/home/helix/Documents/UNAIDS/code/unaids_branch/Demo/pdfs/\" \n",
    "pdfnames = os.listdir(datapath)"
   ]
  },
  {
   "cell_type": "code",
   "execution_count": 92,
   "id": "8bc6219b",
   "metadata": {},
   "outputs": [
    {
     "data": {
      "text/plain": [
       "['ToR_GAM_AI Data POC_Silo AI Oy.pdf',\n",
       " 'colombia.pdf',\n",
       " 'kenya2.pdf',\n",
       " 'Zambia_IBBS_Final Report_May 2018.pdf',\n",
       " 'SAIDS3.pdf',\n",
       " 'SummaryBrazil.pdf',\n",
       " 'SAIDS.pdf',\n",
       " 'Caribbean.pdf',\n",
       " 'ARG.pdf',\n",
       " 'SAIDS.txt',\n",
       " 'centralAsia.pdf',\n",
       " 'Cameroon Report_July 4 2014.pdf',\n",
       " 'SAIDS1.pdf',\n",
       " 'LimePaper.pdf',\n",
       " 'Cameroon2014.pdf',\n",
       " 'LimeVsShap.pdf',\n",
       " 'LimeMedium.pdf',\n",
       " 'Libro TRANS 2016.pdf']"
      ]
     },
     "execution_count": 92,
     "metadata": {},
     "output_type": "execute_result"
    }
   ],
   "source": [
    "pdfnames"
   ]
  },
  {
   "cell_type": "markdown",
   "id": "9d905943-9e78-42f3-bdf5-c49a3efb1f15",
   "metadata": {},
   "source": [
    "# Central Asia:"
   ]
  },
  {
   "cell_type": "code",
   "execution_count": 60,
   "id": "d4b99217",
   "metadata": {},
   "outputs": [],
   "source": [
    "language = \"english\"\n",
    "\n",
    "if language == \"spanish\":\n",
    "    keywords = ('sida', 'sexo', 'ETS')\n",
    "    listOfStrings = ['TABLAS' , 'FIGURAS', 'figura', 'tabla', '...']\n",
    "else:\n",
    "    keywords = ('HIV', 'gender')\n",
    "    listOfStrings = ['TABLES' , 'FIGURE', 'figure', 'table', '...']"
   ]
  },
  {
   "cell_type": "code",
   "execution_count": null,
   "id": "ddf7fecc-5efc-424f-8a7d-651d5ae4716d",
   "metadata": {},
   "outputs": [],
   "source": []
  },
  {
   "cell_type": "code",
   "execution_count": 93,
   "id": "5648c519-fa54-452c-ab3b-29a95c55ae60",
   "metadata": {},
   "outputs": [],
   "source": [
    "paragraphs = pdf_parse_functions.pdf_parser(datapath+pdfnames[7])\n",
    "paragraphs_with_key_words = pdf_parse_functions.get_paragraphs_with_key_words(paragraphs, keywords)"
   ]
  },
  {
   "cell_type": "code",
   "execution_count": 94,
   "id": "4b9aa94a-6f48-4abe-8cde-b8175474fb53",
   "metadata": {},
   "outputs": [
    {
     "data": {
      "text/plain": [
       "[{'heading': 'VIII.CONCLUSION ',\n",
       "  'text': \"Due to the prevalence and urgency of the HIV/AIDS pandemic, the public health sector is gradually being forced to discuss issues of sexuality and power in sexual relationships. Prior to the HIV/AIDS pandemic, the prevailing stance was that sexual relationships were private matters to be discussed between sexual partners, however HIV itself has gone a long way towards putting women's sexual and reproductive health and rights on to international and national agendas. The International Conference on Population and Development (Cairo) and the Fourth World Conference on Women (Beijing) called due attention to the impact of gender on sexual relations, reproductive health decision-making and the transmission of HIV/AIDS. \",\n",
       "  'key_words_info': {'key_words': ('HIV', 'gender'), 'counts': [4, 1]},\n",
       "  'importance': 5},\n",
       " {'heading': 'I.INTRODUCTION  ',\n",
       "  'text': 'Worldwide, the HIV/AIDS pandemic has reached devastating proportions and continues to escalate. On a global scale, 40 million women, men and children are living with HIV/AIDS. The Caribbean has the second highest HIV/AIDS infection rate) in the world (after Sub-Saharan Africa. At the end of 1999, women made up 25% of HIV positive adults in Latin America, and 30% in the Caribbean. Today, those percentages have increased to 30% in Latin America and 50% in the Caribbean.',\n",
       "  'key_words_info': {'key_words': ('HIV', 'gender'), 'counts': [4, 0]},\n",
       "  'importance': 4},\n",
       " {'heading': '21 ',\n",
       "  'text': 'in more traditional communities, women may be afraid not to breastfeed because it will single them out as being HIV positive, stigmatizing them and their children for life. Since women are the key promoters of child health, providing them with accurate and timely information is a means of improving the health of the entire family. Yet access to knowledge is ineffective unless accompanied by the power to make and implement informed decisions. Programs that target vertical transmission work through antenatal health services to test pregnant women for HIV infection, offering pre- and post-test counseling and ARV to those women who test positive. These services are on a voluntary basis however. Many women, especially in the Caribbean will refuse to be counseled or tested for HIV, whether due to lack of knowledge or fear of stigmatization. A recent study however, indicates increasing acceptance rates for HIV testing (following counseling) among pregnant women in the region.',\n",
       "  'key_words_info': {'key_words': ('HIV', 'gender'), 'counts': [4, 0]},\n",
       "  'importance': 4},\n",
       " {'heading': '5 ',\n",
       "  'text': 'importance of addressing gender-related expectations and attitudes. Despite this reality, polices and programs have been slow to incorporate a gender perspective into the HIV/AIDS agenda',\n",
       "  'key_words_info': {'key_words': ('HIV', 'gender'), 'counts': [1, 2]},\n",
       "  'importance': 3},\n",
       " {'heading': 'c)Trafficking  ',\n",
       "  'text': 'The growing trafficking industry is contributing to the spread of HIV/AIDS. While victims of trafficking may be of either sex, a large percentage of trafficked people are female. People trafficked into any form of exploitation including domestic labor, agricultural work or commercial sex work are all vulnerable to mental, reproductive, sexual and communicable disease health risks such as HIV/AIDS. Trafficked people present some of the same vulnerabilities and risks for HIV as those involved in commercial sex work. However, their situation is complicated by the fact that they are often unable to ',\n",
       "  'key_words_info': {'key_words': ('HIV', 'gender'), 'counts': [3, 0]},\n",
       "  'importance': 3},\n",
       " {'heading': '15 ',\n",
       "  'text': \"access health information and services because they are held captive through physical and/or psychological means, are unfamiliar with their local environment, are afraid of being deported, do not speak the local language, or have been threatened with violence or deportation by their traffickers. As trafficking gains increased attention, some countries are attempting to develop policies and programs to support the needs of trafficking survivors, and expedite the punishment of convicted traffickers. However, trafficking survivors are themselves often treated like criminals instead of crime victims. If a trafficked person is able to eventually access services, key questions arise regarding HIV/AIDS, including: patient confidentiality, mandatory/voluntary testing, confidential HIV testing, treatment, mental health support and repatriation issues. Repatriation raises many human rights concerns, such as the informed consent of the survivor, or the availability of HIV/AIDS care and treatment services in the survivor's country of origin. \",\n",
       "  'key_words_info': {'key_words': ('HIV', 'gender'), 'counts': [3, 0]},\n",
       "  'importance': 3},\n",
       " {'heading': 'Recommendation 8 ',\n",
       "  'text': \"Address the impact of gender norms and stereotypes on women living with HIV/AIDS and the barriers to services which they face. Improve health workers understanding of HIV positive women's distinct physical and psychological needs. (see box 4) \",\n",
       "  'key_words_info': {'key_words': ('HIV', 'gender'), 'counts': [2, 1]},\n",
       "  'importance': 3},\n",
       " {'heading': 'a)Biological Factors   ',\n",
       "  'text': 'Specific biological factors place women at a greater risk of contracting HIV than men. The soft tissue in the female reproductive tract tears easily, producing a transmission route for the virus. Additionally, vaginal tissue absorbs fluids more easily, including sperm, which has a higher concentration of the HIV virus than female vaginal secretions and may remain in the vagina for hours following intercourse',\n",
       "  'key_words_info': {'key_words': ('HIV', 'gender'), 'counts': [2, 0]},\n",
       "  'importance': 2},\n",
       " {'heading': '16 ',\n",
       "  'text': 'services. Indigenous women in particular are faced with the double burden of gender and ethnicity, and their severely limited power places them at an even greater risk of contracting HIV/AIDS. While there is a dearth of information on indigenous populations throughout the Americas, fewer opportunities for education, employment or access to services have lead experts to predict a rapidly rising rate of infection',\n",
       "  'key_words_info': {'key_words': ('HIV', 'gender'), 'counts': [1, 1]},\n",
       "  'importance': 2},\n",
       " {'heading': 'Recommendation 6 ',\n",
       "  'text': 'Incorporate a gender perspective and sexual and reproductive health services into crisis response plans, in order to ensure that a crisis does not worsen the spread of HIV. ',\n",
       "  'key_words_info': {'key_words': ('HIV', 'gender'), 'counts': [1, 1]},\n",
       "  'importance': 2},\n",
       " {'heading': 'II.GENDER, SEX AND SEXUALITY   ',\n",
       "  'text': 'An understanding of gender, sex and sexuality is essential to addressing these issues, yet the three terms are often confused and interchanged. ',\n",
       "  'key_words_info': {'key_words': ('HIV', 'gender'), 'counts': [0, 1]},\n",
       "  'importance': 1},\n",
       " {'heading': 'Women, Sexuality and Vulnerability  ',\n",
       "  'text': \"The social construction of femininity in the LAC region endangers women's health and acts as an obstacle for women who are trying to attain knowledge about their reproductive and sexual health - their bodies, pregnancy, childbirth, contraception, reproductive complications and sexually transmitted diseases including HIV\",\n",
       "  'key_words_info': {'key_words': ('HIV', 'gender'), 'counts': [1, 0]},\n",
       "  'importance': 1},\n",
       " {'heading': '10 ',\n",
       "  'text': 'outcomes of decisions in heterosexual relationships frequently leave the female partner with less power and more vulnerability to contracting sexually transmitted infections (STIs) including HIV/AIDS.',\n",
       "  'key_words_info': {'key_words': ('HIV', 'gender'), 'counts': [1, 0]},\n",
       "  'importance': 1},\n",
       " {'heading': 'Men, Sexuality and Risk Behaviour ',\n",
       "  'text': \"Gender-based norms also increase men's risk of HIV infection. From a young age, boys are socialized to associate prolific sexual activity with masculinity and they are encouraged to be sexually active and knowledgeable regarding sexual issues.\",\n",
       "  'key_words_info': {'key_words': ('HIV', 'gender'), 'counts': [1, 0]},\n",
       "  'importance': 1},\n",
       " {'heading': 'c)Economic Factors  ',\n",
       "  'text': 'Research indicates that economically vulnerable women are less likely to terminate a potentially dangerous relationship, less likely to have access to information regarding HIV/AIDS, less likely to use condoms and more likely to resort to high-risk behaviours for a source of income. ',\n",
       "  'key_words_info': {'key_words': ('HIV', 'gender'), 'counts': [1, 0]},\n",
       "  'importance': 1},\n",
       " {'heading': 'a)Gender-Based Violence ',\n",
       "  'text': \"Gender-based violence is an extremely damaging form of female disempowerment. It leads to women's increased susceptibility to HIV infection by limiting their physical and mental freedom\",\n",
       "  'key_words_info': {'key_words': ('HIV', 'gender'), 'counts': [1, 0]},\n",
       "  'importance': 1},\n",
       " {'heading': 'Box 1 - Violence against Women ',\n",
       "  'text': '\"Any act of gender-based violence that results in, or is likely to result in physical, sexual or psychological harm or suffering to women, including threats of such acts, coercion or arbitrary deprivation of liberty, whether occurring in public or private life.” ',\n",
       "  'key_words_info': {'key_words': ('HIV', 'gender'), 'counts': [0, 1]},\n",
       "  'importance': 1},\n",
       " {'heading': '13 ',\n",
       "  'text': 'Studies on violence in the LAC region indicate that the power and control implicit to the social construction of masculinity place women at risk of HIV infection.',\n",
       "  'key_words_info': {'key_words': ('HIV', 'gender'), 'counts': [1, 0]},\n",
       "  'importance': 1},\n",
       " {'heading': 'Voluntary Migration ',\n",
       "  'text': 'The marginalized status of migrants increases their vulnerability to HIV',\n",
       "  'key_words_info': {'key_words': ('HIV', 'gender'), 'counts': [1, 0]},\n",
       "  'importance': 1},\n",
       " {'heading': '17 ',\n",
       "  'text': 'inequalities act to increase the incidence of physical and sexual violence against women and children, a notable risk factor for HIV/AIDS.',\n",
       "  'key_words_info': {'key_words': ('HIV', 'gender'), 'counts': [1, 0]},\n",
       "  'importance': 1},\n",
       " {'heading': 'a)Infected ',\n",
       "  'text': 'Gender influences the effects of HIV/AIDS prognosis and treatment medically and socially, in both women and men.',\n",
       "  'key_words_info': {'key_words': ('HIV', 'gender'), 'counts': [1, 0]},\n",
       "  'importance': 1},\n",
       " {'heading': 'The Female Condom ',\n",
       "  'text': 'One development which has been hailed as a new \"female controlled method\" is the female condom. Though as effective in preventing transmission of HIV as the male condom, the female condom carries with it the same obstacles as the male condom.',\n",
       "  'key_words_info': {'key_words': ('HIV', 'gender'), 'counts': [1, 0]},\n",
       "  'importance': 1},\n",
       " {'heading': 'Microbicides  ',\n",
       "  'text': 'Another option, though not yet available, is the microbicide, a compound in the form of a gel, cream, suppository, film, sponge or vaginal ring that targets and eliminates or reduces the presence of HIV.',\n",
       "  'key_words_info': {'key_words': ('HIV', 'gender'), 'counts': [1, 0]},\n",
       "  'importance': 1},\n",
       " {'heading': 'Recommendation 1 ',\n",
       "  'text': 'Empower couples to communicate and negotiate openly about sexual needs, desires and perceived risks, challenging gender norms which privilege men’s ',\n",
       "  'key_words_info': {'key_words': ('HIV', 'gender'), 'counts': [0, 1]},\n",
       "  'importance': 1},\n",
       " {'heading': 'Recommendation 2 ',\n",
       "  'text': 'Empower girls and boys, women and men by increasing their access to education, literacy and information about sexual and reproductive health. Comprehensive and appropriate sexual education should explore gender relations, masculinity, femininity and their effect on sexual behaviour and health (see box 2). ',\n",
       "  'key_words_info': {'key_words': ('HIV', 'gender'), 'counts': [0, 1]},\n",
       "  'importance': 1},\n",
       " {'heading': 'Recommendation 3 ',\n",
       "  'text': 'Work with men to explore the effects of masculinity, violence, power and control on relationships and sexual health (see box 3). Though men are the driving force behind the HIV/AIDS epidemic, the responsibility and capacity that is an essential component of masculinity could be used to fight the epidemic as well. ',\n",
       "  'key_words_info': {'key_words': ('HIV', 'gender'), 'counts': [1, 0]},\n",
       "  'importance': 1},\n",
       " {'heading': 'Recommendation 4 ',\n",
       "  'text': 'Improve sexual and reproductive health services for all, their coverage, accessibility and gender sensitivity. Create more male-friendly sexual and reproductive health services (see box 3). Women and men should be encouraged to access health services and monitor their own risk factors and behaviour. ',\n",
       "  'key_words_info': {'key_words': ('HIV', 'gender'), 'counts': [0, 1]},\n",
       "  'importance': 1},\n",
       " {'heading': 'Recommendation 5 ',\n",
       "  'text': 'Empower women to participate in community and national decision-making about HIV/AIDS issues ',\n",
       "  'key_words_info': {'key_words': ('HIV', 'gender'), 'counts': [1, 0]},\n",
       "  'importance': 1},\n",
       " {'heading': 'Recommendation 9',\n",
       "  'text': 'Acknowledge that women are the primary care-givers within the family and community, and that this work is unpaid. The financial, physical and psychological burden placed on women by the HIV/AIDS epidemic has a significant impact not only on her health, but on the well-being of her family and the national economy. ',\n",
       "  'key_words_info': {'key_words': ('HIV', 'gender'), 'counts': [1, 0]},\n",
       "  'importance': 1},\n",
       " {'heading': 'Recommendation 10 ',\n",
       "  'text': \"Approach women's health from a holistic perspective. Women's vulnerability to HIV/AIDS is not merely physiological, but situational, it is directly related to her gendered social status (see box 5). \",\n",
       "  'key_words_info': {'key_words': ('HIV', 'gender'), 'counts': [1, 0]},\n",
       "  'importance': 1},\n",
       " {'heading': 'Recommendation 11 ',\n",
       "  'text': 'Work with key population groups which are at a high risk for HIV transmission. This includes sex-workers, intravenous drug users, men who have sex with men and adolescents (see box 6). ',\n",
       "  'key_words_info': {'key_words': ('HIV', 'gender'), 'counts': [1, 0]},\n",
       "  'importance': 1}]"
      ]
     },
     "execution_count": 94,
     "metadata": {},
     "output_type": "execute_result"
    }
   ],
   "source": [
    "paragraphs_with_key_words"
   ]
  },
  {
   "cell_type": "code",
   "execution_count": 95,
   "id": "61143f5d-e9e8-4330-89ff-befa44769d6c",
   "metadata": {},
   "outputs": [],
   "source": [
    "word_list = []\n",
    "for para in paragraphs_with_key_words:\n",
    "    if any(w in para['heading'] for w in listOfStrings)  == True:\n",
    "        pass\n",
    "    else:\n",
    "        word_list.append(para)"
   ]
  },
  {
   "cell_type": "code",
   "execution_count": 96,
   "id": "875d9818-45f2-4c98-983d-2efee3a22628",
   "metadata": {},
   "outputs": [],
   "source": [
    "paragraphs_with_key_words = word_list"
   ]
  },
  {
   "cell_type": "code",
   "execution_count": 97,
   "id": "428dc057",
   "metadata": {},
   "outputs": [],
   "source": [
    "#paragraphs[0].keys()"
   ]
  },
  {
   "cell_type": "code",
   "execution_count": 98,
   "id": "e17427c8",
   "metadata": {},
   "outputs": [],
   "source": [
    "df = pd.DataFrame.from_dict(paragraphs_with_key_words)"
   ]
  },
  {
   "cell_type": "code",
   "execution_count": 99,
   "id": "e53e12e8",
   "metadata": {},
   "outputs": [
    {
     "data": {
      "text/html": [
       "<div>\n",
       "<style scoped>\n",
       "    .dataframe tbody tr th:only-of-type {\n",
       "        vertical-align: middle;\n",
       "    }\n",
       "\n",
       "    .dataframe tbody tr th {\n",
       "        vertical-align: top;\n",
       "    }\n",
       "\n",
       "    .dataframe thead th {\n",
       "        text-align: right;\n",
       "    }\n",
       "</style>\n",
       "<table border=\"1\" class=\"dataframe\">\n",
       "  <thead>\n",
       "    <tr style=\"text-align: right;\">\n",
       "      <th></th>\n",
       "      <th>heading</th>\n",
       "      <th>text</th>\n",
       "      <th>key_words_info</th>\n",
       "      <th>importance</th>\n",
       "    </tr>\n",
       "  </thead>\n",
       "  <tbody>\n",
       "    <tr>\n",
       "      <th>0</th>\n",
       "      <td>VIII.CONCLUSION</td>\n",
       "      <td>Due to the prevalence and urgency of the HIV/A...</td>\n",
       "      <td>{'key_words': ('HIV', 'gender'), 'counts': [4,...</td>\n",
       "      <td>5</td>\n",
       "    </tr>\n",
       "    <tr>\n",
       "      <th>1</th>\n",
       "      <td>I.INTRODUCTION</td>\n",
       "      <td>Worldwide, the HIV/AIDS pandemic has reached d...</td>\n",
       "      <td>{'key_words': ('HIV', 'gender'), 'counts': [4,...</td>\n",
       "      <td>4</td>\n",
       "    </tr>\n",
       "    <tr>\n",
       "      <th>2</th>\n",
       "      <td>21</td>\n",
       "      <td>in more traditional communities, women may be ...</td>\n",
       "      <td>{'key_words': ('HIV', 'gender'), 'counts': [4,...</td>\n",
       "      <td>4</td>\n",
       "    </tr>\n",
       "    <tr>\n",
       "      <th>3</th>\n",
       "      <td>5</td>\n",
       "      <td>importance of addressing gender-related expect...</td>\n",
       "      <td>{'key_words': ('HIV', 'gender'), 'counts': [1,...</td>\n",
       "      <td>3</td>\n",
       "    </tr>\n",
       "    <tr>\n",
       "      <th>4</th>\n",
       "      <td>c)Trafficking</td>\n",
       "      <td>The growing trafficking industry is contributi...</td>\n",
       "      <td>{'key_words': ('HIV', 'gender'), 'counts': [3,...</td>\n",
       "      <td>3</td>\n",
       "    </tr>\n",
       "    <tr>\n",
       "      <th>5</th>\n",
       "      <td>15</td>\n",
       "      <td>access health information and services because...</td>\n",
       "      <td>{'key_words': ('HIV', 'gender'), 'counts': [3,...</td>\n",
       "      <td>3</td>\n",
       "    </tr>\n",
       "    <tr>\n",
       "      <th>6</th>\n",
       "      <td>Recommendation 8</td>\n",
       "      <td>Address the impact of gender norms and stereot...</td>\n",
       "      <td>{'key_words': ('HIV', 'gender'), 'counts': [2,...</td>\n",
       "      <td>3</td>\n",
       "    </tr>\n",
       "    <tr>\n",
       "      <th>7</th>\n",
       "      <td>a)Biological Factors</td>\n",
       "      <td>Specific biological factors place women at a g...</td>\n",
       "      <td>{'key_words': ('HIV', 'gender'), 'counts': [2,...</td>\n",
       "      <td>2</td>\n",
       "    </tr>\n",
       "    <tr>\n",
       "      <th>8</th>\n",
       "      <td>16</td>\n",
       "      <td>services. Indigenous women in particular are f...</td>\n",
       "      <td>{'key_words': ('HIV', 'gender'), 'counts': [1,...</td>\n",
       "      <td>2</td>\n",
       "    </tr>\n",
       "    <tr>\n",
       "      <th>9</th>\n",
       "      <td>Recommendation 6</td>\n",
       "      <td>Incorporate a gender perspective and sexual an...</td>\n",
       "      <td>{'key_words': ('HIV', 'gender'), 'counts': [1,...</td>\n",
       "      <td>2</td>\n",
       "    </tr>\n",
       "    <tr>\n",
       "      <th>10</th>\n",
       "      <td>II.GENDER, SEX AND SEXUALITY</td>\n",
       "      <td>An understanding of gender, sex and sexuality ...</td>\n",
       "      <td>{'key_words': ('HIV', 'gender'), 'counts': [0,...</td>\n",
       "      <td>1</td>\n",
       "    </tr>\n",
       "    <tr>\n",
       "      <th>11</th>\n",
       "      <td>Women, Sexuality and Vulnerability</td>\n",
       "      <td>The social construction of femininity in the L...</td>\n",
       "      <td>{'key_words': ('HIV', 'gender'), 'counts': [1,...</td>\n",
       "      <td>1</td>\n",
       "    </tr>\n",
       "    <tr>\n",
       "      <th>12</th>\n",
       "      <td>10</td>\n",
       "      <td>outcomes of decisions in heterosexual relation...</td>\n",
       "      <td>{'key_words': ('HIV', 'gender'), 'counts': [1,...</td>\n",
       "      <td>1</td>\n",
       "    </tr>\n",
       "    <tr>\n",
       "      <th>13</th>\n",
       "      <td>Men, Sexuality and Risk Behaviour</td>\n",
       "      <td>Gender-based norms also increase men's risk of...</td>\n",
       "      <td>{'key_words': ('HIV', 'gender'), 'counts': [1,...</td>\n",
       "      <td>1</td>\n",
       "    </tr>\n",
       "    <tr>\n",
       "      <th>14</th>\n",
       "      <td>c)Economic Factors</td>\n",
       "      <td>Research indicates that economically vulnerabl...</td>\n",
       "      <td>{'key_words': ('HIV', 'gender'), 'counts': [1,...</td>\n",
       "      <td>1</td>\n",
       "    </tr>\n",
       "    <tr>\n",
       "      <th>15</th>\n",
       "      <td>a)Gender-Based Violence</td>\n",
       "      <td>Gender-based violence is an extremely damaging...</td>\n",
       "      <td>{'key_words': ('HIV', 'gender'), 'counts': [1,...</td>\n",
       "      <td>1</td>\n",
       "    </tr>\n",
       "    <tr>\n",
       "      <th>16</th>\n",
       "      <td>Box 1 - Violence against Women</td>\n",
       "      <td>\"Any act of gender-based violence that results...</td>\n",
       "      <td>{'key_words': ('HIV', 'gender'), 'counts': [0,...</td>\n",
       "      <td>1</td>\n",
       "    </tr>\n",
       "    <tr>\n",
       "      <th>17</th>\n",
       "      <td>13</td>\n",
       "      <td>Studies on violence in the LAC region indicate...</td>\n",
       "      <td>{'key_words': ('HIV', 'gender'), 'counts': [1,...</td>\n",
       "      <td>1</td>\n",
       "    </tr>\n",
       "    <tr>\n",
       "      <th>18</th>\n",
       "      <td>Voluntary Migration</td>\n",
       "      <td>The marginalized status of migrants increases ...</td>\n",
       "      <td>{'key_words': ('HIV', 'gender'), 'counts': [1,...</td>\n",
       "      <td>1</td>\n",
       "    </tr>\n",
       "    <tr>\n",
       "      <th>19</th>\n",
       "      <td>17</td>\n",
       "      <td>inequalities act to increase the incidence of ...</td>\n",
       "      <td>{'key_words': ('HIV', 'gender'), 'counts': [1,...</td>\n",
       "      <td>1</td>\n",
       "    </tr>\n",
       "    <tr>\n",
       "      <th>20</th>\n",
       "      <td>a)Infected</td>\n",
       "      <td>Gender influences the effects of HIV/AIDS prog...</td>\n",
       "      <td>{'key_words': ('HIV', 'gender'), 'counts': [1,...</td>\n",
       "      <td>1</td>\n",
       "    </tr>\n",
       "    <tr>\n",
       "      <th>21</th>\n",
       "      <td>The Female Condom</td>\n",
       "      <td>One development which has been hailed as a new...</td>\n",
       "      <td>{'key_words': ('HIV', 'gender'), 'counts': [1,...</td>\n",
       "      <td>1</td>\n",
       "    </tr>\n",
       "    <tr>\n",
       "      <th>22</th>\n",
       "      <td>Microbicides</td>\n",
       "      <td>Another option, though not yet available, is t...</td>\n",
       "      <td>{'key_words': ('HIV', 'gender'), 'counts': [1,...</td>\n",
       "      <td>1</td>\n",
       "    </tr>\n",
       "    <tr>\n",
       "      <th>23</th>\n",
       "      <td>Recommendation 1</td>\n",
       "      <td>Empower couples to communicate and negotiate o...</td>\n",
       "      <td>{'key_words': ('HIV', 'gender'), 'counts': [0,...</td>\n",
       "      <td>1</td>\n",
       "    </tr>\n",
       "    <tr>\n",
       "      <th>24</th>\n",
       "      <td>Recommendation 2</td>\n",
       "      <td>Empower girls and boys, women and men by incre...</td>\n",
       "      <td>{'key_words': ('HIV', 'gender'), 'counts': [0,...</td>\n",
       "      <td>1</td>\n",
       "    </tr>\n",
       "    <tr>\n",
       "      <th>25</th>\n",
       "      <td>Recommendation 3</td>\n",
       "      <td>Work with men to explore the effects of mascul...</td>\n",
       "      <td>{'key_words': ('HIV', 'gender'), 'counts': [1,...</td>\n",
       "      <td>1</td>\n",
       "    </tr>\n",
       "    <tr>\n",
       "      <th>26</th>\n",
       "      <td>Recommendation 4</td>\n",
       "      <td>Improve sexual and reproductive health service...</td>\n",
       "      <td>{'key_words': ('HIV', 'gender'), 'counts': [0,...</td>\n",
       "      <td>1</td>\n",
       "    </tr>\n",
       "    <tr>\n",
       "      <th>27</th>\n",
       "      <td>Recommendation 5</td>\n",
       "      <td>Empower women to participate in community and ...</td>\n",
       "      <td>{'key_words': ('HIV', 'gender'), 'counts': [1,...</td>\n",
       "      <td>1</td>\n",
       "    </tr>\n",
       "    <tr>\n",
       "      <th>28</th>\n",
       "      <td>Recommendation 9</td>\n",
       "      <td>Acknowledge that women are the primary care-gi...</td>\n",
       "      <td>{'key_words': ('HIV', 'gender'), 'counts': [1,...</td>\n",
       "      <td>1</td>\n",
       "    </tr>\n",
       "    <tr>\n",
       "      <th>29</th>\n",
       "      <td>Recommendation 10</td>\n",
       "      <td>Approach women's health from a holistic perspe...</td>\n",
       "      <td>{'key_words': ('HIV', 'gender'), 'counts': [1,...</td>\n",
       "      <td>1</td>\n",
       "    </tr>\n",
       "    <tr>\n",
       "      <th>30</th>\n",
       "      <td>Recommendation 11</td>\n",
       "      <td>Work with key population groups which are at a...</td>\n",
       "      <td>{'key_words': ('HIV', 'gender'), 'counts': [1,...</td>\n",
       "      <td>1</td>\n",
       "    </tr>\n",
       "  </tbody>\n",
       "</table>\n",
       "</div>"
      ],
      "text/plain": [
       "                                 heading  \\\n",
       "0                       VIII.CONCLUSION    \n",
       "1                       I.INTRODUCTION     \n",
       "2                                    21    \n",
       "3                                     5    \n",
       "4                        c)Trafficking     \n",
       "5                                    15    \n",
       "6                      Recommendation 8    \n",
       "7                a)Biological Factors      \n",
       "8                                    16    \n",
       "9                      Recommendation 6    \n",
       "10       II.GENDER, SEX AND SEXUALITY      \n",
       "11  Women, Sexuality and Vulnerability     \n",
       "12                                   10    \n",
       "13    Men, Sexuality and Risk Behaviour    \n",
       "14                  c)Economic Factors     \n",
       "15              a)Gender-Based Violence    \n",
       "16       Box 1 - Violence against Women    \n",
       "17                                   13    \n",
       "18                  Voluntary Migration    \n",
       "19                                   17    \n",
       "20                           a)Infected    \n",
       "21                    The Female Condom    \n",
       "22                        Microbicides     \n",
       "23                     Recommendation 1    \n",
       "24                     Recommendation 2    \n",
       "25                     Recommendation 3    \n",
       "26                     Recommendation 4    \n",
       "27                     Recommendation 5    \n",
       "28                      Recommendation 9   \n",
       "29                    Recommendation 10    \n",
       "30                    Recommendation 11    \n",
       "\n",
       "                                                 text  \\\n",
       "0   Due to the prevalence and urgency of the HIV/A...   \n",
       "1   Worldwide, the HIV/AIDS pandemic has reached d...   \n",
       "2   in more traditional communities, women may be ...   \n",
       "3   importance of addressing gender-related expect...   \n",
       "4   The growing trafficking industry is contributi...   \n",
       "5   access health information and services because...   \n",
       "6   Address the impact of gender norms and stereot...   \n",
       "7   Specific biological factors place women at a g...   \n",
       "8   services. Indigenous women in particular are f...   \n",
       "9   Incorporate a gender perspective and sexual an...   \n",
       "10  An understanding of gender, sex and sexuality ...   \n",
       "11  The social construction of femininity in the L...   \n",
       "12  outcomes of decisions in heterosexual relation...   \n",
       "13  Gender-based norms also increase men's risk of...   \n",
       "14  Research indicates that economically vulnerabl...   \n",
       "15  Gender-based violence is an extremely damaging...   \n",
       "16  \"Any act of gender-based violence that results...   \n",
       "17  Studies on violence in the LAC region indicate...   \n",
       "18  The marginalized status of migrants increases ...   \n",
       "19  inequalities act to increase the incidence of ...   \n",
       "20  Gender influences the effects of HIV/AIDS prog...   \n",
       "21  One development which has been hailed as a new...   \n",
       "22  Another option, though not yet available, is t...   \n",
       "23  Empower couples to communicate and negotiate o...   \n",
       "24  Empower girls and boys, women and men by incre...   \n",
       "25  Work with men to explore the effects of mascul...   \n",
       "26  Improve sexual and reproductive health service...   \n",
       "27  Empower women to participate in community and ...   \n",
       "28  Acknowledge that women are the primary care-gi...   \n",
       "29  Approach women's health from a holistic perspe...   \n",
       "30  Work with key population groups which are at a...   \n",
       "\n",
       "                                       key_words_info  importance  \n",
       "0   {'key_words': ('HIV', 'gender'), 'counts': [4,...           5  \n",
       "1   {'key_words': ('HIV', 'gender'), 'counts': [4,...           4  \n",
       "2   {'key_words': ('HIV', 'gender'), 'counts': [4,...           4  \n",
       "3   {'key_words': ('HIV', 'gender'), 'counts': [1,...           3  \n",
       "4   {'key_words': ('HIV', 'gender'), 'counts': [3,...           3  \n",
       "5   {'key_words': ('HIV', 'gender'), 'counts': [3,...           3  \n",
       "6   {'key_words': ('HIV', 'gender'), 'counts': [2,...           3  \n",
       "7   {'key_words': ('HIV', 'gender'), 'counts': [2,...           2  \n",
       "8   {'key_words': ('HIV', 'gender'), 'counts': [1,...           2  \n",
       "9   {'key_words': ('HIV', 'gender'), 'counts': [1,...           2  \n",
       "10  {'key_words': ('HIV', 'gender'), 'counts': [0,...           1  \n",
       "11  {'key_words': ('HIV', 'gender'), 'counts': [1,...           1  \n",
       "12  {'key_words': ('HIV', 'gender'), 'counts': [1,...           1  \n",
       "13  {'key_words': ('HIV', 'gender'), 'counts': [1,...           1  \n",
       "14  {'key_words': ('HIV', 'gender'), 'counts': [1,...           1  \n",
       "15  {'key_words': ('HIV', 'gender'), 'counts': [1,...           1  \n",
       "16  {'key_words': ('HIV', 'gender'), 'counts': [0,...           1  \n",
       "17  {'key_words': ('HIV', 'gender'), 'counts': [1,...           1  \n",
       "18  {'key_words': ('HIV', 'gender'), 'counts': [1,...           1  \n",
       "19  {'key_words': ('HIV', 'gender'), 'counts': [1,...           1  \n",
       "20  {'key_words': ('HIV', 'gender'), 'counts': [1,...           1  \n",
       "21  {'key_words': ('HIV', 'gender'), 'counts': [1,...           1  \n",
       "22  {'key_words': ('HIV', 'gender'), 'counts': [1,...           1  \n",
       "23  {'key_words': ('HIV', 'gender'), 'counts': [0,...           1  \n",
       "24  {'key_words': ('HIV', 'gender'), 'counts': [0,...           1  \n",
       "25  {'key_words': ('HIV', 'gender'), 'counts': [1,...           1  \n",
       "26  {'key_words': ('HIV', 'gender'), 'counts': [0,...           1  \n",
       "27  {'key_words': ('HIV', 'gender'), 'counts': [1,...           1  \n",
       "28  {'key_words': ('HIV', 'gender'), 'counts': [1,...           1  \n",
       "29  {'key_words': ('HIV', 'gender'), 'counts': [1,...           1  \n",
       "30  {'key_words': ('HIV', 'gender'), 'counts': [1,...           1  "
      ]
     },
     "execution_count": 99,
     "metadata": {},
     "output_type": "execute_result"
    }
   ],
   "source": [
    "df"
   ]
  },
  {
   "cell_type": "code",
   "execution_count": 26,
   "id": "026857e9",
   "metadata": {},
   "outputs": [],
   "source": [
    "#df.to_csv('/home/helix/Documents/UNAIDS/Development/DemoFlask2/SA.csv', index=False)"
   ]
  },
  {
   "cell_type": "code",
   "execution_count": 27,
   "id": "2b51994f",
   "metadata": {},
   "outputs": [],
   "source": [
    "#df[df['heading'] == '2) Gender'].text"
   ]
  },
  {
   "cell_type": "code",
   "execution_count": 100,
   "id": "7b4119b1",
   "metadata": {},
   "outputs": [
    {
     "data": {
      "text/plain": [
       "31"
      ]
     },
     "execution_count": 100,
     "metadata": {},
     "output_type": "execute_result"
    }
   ],
   "source": [
    "len(paragraphs_with_key_words)"
   ]
  },
  {
   "cell_type": "code",
   "execution_count": 72,
   "id": "c6c625f2",
   "metadata": {},
   "outputs": [
    {
     "data": {
      "text/plain": [
       "'How gender affects health, and the risk of contracting HIV/AIDS in particular, is striking and must be taken into consideration for effective planning and surveillance. Eastern Europe and Central Asia represent unique HIV contexts, very different from the situations in Sub-Saharan Africa or Western Europe. The region faces considerable challenges in order to stop the accelerating spread of HIV among very young women and men, as well as to improve the inadequate prevention of MTCT and the incomplete and often discriminating follow-up and care for PLWHA. Eastern European and Central Asian societies display traditional gender norms where men are expected to ignore or even seek risks associated with IDU or high-risk sex. Women on the other hand often lack the power to choose their sexual relations and their bodies may be considered as potential transactional goods. The threat of HIV has not yet been taken seriously by governments or by the general population and HIV is still regarded as a “drug-users disease” that IDUs themselves are responsible for. Due to recent increased funding, the HIV issue has become more prominent at policy level, but it is still prioritised among ”health and social issues” rather than seen as a national concern. A very high prevalence of IDU related risk-behaviour among young people, particularly men, is triggering the epidemic, and the socially marginalized status of the majority of HIV-positive individuals makes secondary prevention activities difficult. Attitudes of discrimination against young IDU are widespread including the denial of monitoring and ART to IDUs with HIV. This discrimination exacerbates this group’s feelings of unimportance and social marginalisation, in turn fuelling protest and escape-related risk-behaviours. Laws prohibiting discrimination are already in place, but they are not enforced by governments or practised by providers. IDU is not a moral issue, neither is it merely a consequence of poverty, societal disruption, hopelessness or fatalism. IDU is, to a large extent, driven by gender stereotypes that push young people, predominantly men, to seek risks and experiment with drugs, and to display their macho-behaviour through injection and peer solidarity through needle sharing. Many girls appear to be introduced to drugs through their boyfriends. Among the youngest age group, the proportion of IDUs who are girls appears to be increasing, but whether this is due to increasing abuse or more openness among young women is not known. Sex work and the trafficking of young women and children have exploded in the region during the last decade, exposing the involved individuals to very high risks of STI and HIV. Due to the large numbers of young women who pass through the commercial sex industry, the risk of spreading HIV to the general population either through their clients or through their own partners is obvious. Unemployed women with families to support or with on-going drug abuse habits may see sex work as their only source of income. This view is steered by cultural gender expectations that women’s bodies may be sold. Dreams of a better life or more money make many young women and girls vulnerable to deception into trafficking abroad or to relocation to larger cities where they are exploited in the sex industry. These women are very disempowered in terms of changing their situation, still, they receive little help from the police and their destiny is of surprisingly low priority for legislators. Gender mainstreaming is not costly in terms of financial resources but it requires an increased awareness of the importance of creating gender-sensitive HIV prevention, care and surveillance programmes. This is not only important for the sake of equity, but because large groups of vulnerable people are not being reached by current campaigns and services which often lack sensitivity both in terms of gender and ethnicity. Thus, in order to effectively reduce the drug-mediated spread of HIV, the potential for sexual transmission into the general population, as well as the provision of just and equal care to all women and men affected and infected by HIV, gender aspects should be taken into account for successful implementation and design of programmes for HIV/AIDS prevention and care. '"
      ]
     },
     "execution_count": 72,
     "metadata": {},
     "output_type": "execute_result"
    }
   ],
   "source": [
    "paragraphs_with_key_words[0]['text']"
   ]
  },
  {
   "cell_type": "code",
   "execution_count": 73,
   "id": "58f25007",
   "metadata": {},
   "outputs": [
    {
     "data": {
      "text/plain": [
       "[{'summary_text': ' Estonia has seen an extremely rapid spread of HIV among young male IDUs . The majority of HIV infections occur among very young men in the Russian-speaking minority where gender stereotypes with strong macho ideals prevail . Language barriers and discrimination have caused high unemployment . Despite being born in Estonia, many unemployed HIV-positive young people of Russian ethnicity lack health insurance .'}]"
      ]
     },
     "execution_count": 73,
     "metadata": {},
     "output_type": "execute_result"
    }
   ],
   "source": [
    "summa(paragraphs_with_key_words[6]['text'])"
   ]
  },
  {
   "cell_type": "code",
   "execution_count": 78,
   "id": "e4e15b06",
   "metadata": {},
   "outputs": [
    {
     "name": "stderr",
     "output_type": "stream",
     "text": [
      "Your max_length is set to 142, but you input_length is only 128. You might consider decreasing max_length manually, e.g. summarizer('...', max_length=50)\n",
      "Your max_length is set to 142, but you input_length is only 137. You might consider decreasing max_length manually, e.g. summarizer('...', max_length=50)\n",
      "Your max_length is set to 142, but you input_length is only 138. You might consider decreasing max_length manually, e.g. summarizer('...', max_length=50)\n",
      "Your max_length is set to 142, but you input_length is only 54. You might consider decreasing max_length manually, e.g. summarizer('...', max_length=50)\n",
      "Your max_length is set to 142, but you input_length is only 76. You might consider decreasing max_length manually, e.g. summarizer('...', max_length=50)\n",
      "Your max_length is set to 142, but you input_length is only 94. You might consider decreasing max_length manually, e.g. summarizer('...', max_length=50)\n",
      "Your max_length is set to 142, but you input_length is only 63. You might consider decreasing max_length manually, e.g. summarizer('...', max_length=50)\n",
      "Your max_length is set to 142, but you input_length is only 135. You might consider decreasing max_length manually, e.g. summarizer('...', max_length=50)\n",
      "Your max_length is set to 142, but you input_length is only 62. You might consider decreasing max_length manually, e.g. summarizer('...', max_length=50)\n",
      "Your max_length is set to 142, but you input_length is only 50. You might consider decreasing max_length manually, e.g. summarizer('...', max_length=50)\n",
      "Your max_length is set to 142, but you input_length is only 67. You might consider decreasing max_length manually, e.g. summarizer('...', max_length=50)\n",
      "Your max_length is set to 142, but you input_length is only 52. You might consider decreasing max_length manually, e.g. summarizer('...', max_length=50)\n"
     ]
    }
   ],
   "source": [
    "# Loop to automatize this process\n",
    "lista = []\n",
    "summaries = []\n",
    "for i in range(0,len(paragraphs_with_key_words)):\n",
    "     lista.append(paragraphs_with_key_words[i]['text'])\n",
    "    \n",
    "     summaries.append(summa(paragraphs_with_key_words[i]['text']))\n"
   ]
  },
  {
   "cell_type": "markdown",
   "id": "dc192ea7-3904-4f0a-9aeb-5931d974fc30",
   "metadata": {},
   "source": [
    "Sentiment analyses\n"
   ]
  },
  {
   "cell_type": "code",
   "execution_count": 75,
   "id": "c146cb74-1bed-427c-b56c-360e652fcfd9",
   "metadata": {},
   "outputs": [
    {
     "data": {
      "application/vnd.jupyter.widget-view+json": {
       "model_id": "d7fa9e553cd54633b7c9e86dbde12d4c",
       "version_major": 2,
       "version_minor": 0
      },
      "text/plain": [
       "Downloading:   0%|          | 0.00/629 [00:00<?, ?B/s]"
      ]
     },
     "metadata": {},
     "output_type": "display_data"
    },
    {
     "data": {
      "application/vnd.jupyter.widget-view+json": {
       "model_id": "f8a5c29de7024b8caf4cc485a16d7b8a",
       "version_major": 2,
       "version_minor": 0
      },
      "text/plain": [
       "Downloading:   0%|          | 0.00/268M [00:00<?, ?B/s]"
      ]
     },
     "metadata": {},
     "output_type": "display_data"
    },
    {
     "data": {
      "application/vnd.jupyter.widget-view+json": {
       "model_id": "8460c6fa1eea4c9e851351499f9b2ca6",
       "version_major": 2,
       "version_minor": 0
      },
      "text/plain": [
       "Downloading:   0%|          | 0.00/232k [00:00<?, ?B/s]"
      ]
     },
     "metadata": {},
     "output_type": "display_data"
    },
    {
     "data": {
      "application/vnd.jupyter.widget-view+json": {
       "model_id": "6db7b83eab534a908b2fcb7ca94c9627",
       "version_major": 2,
       "version_minor": 0
      },
      "text/plain": [
       "Downloading:   0%|          | 0.00/48.0 [00:00<?, ?B/s]"
      ]
     },
     "metadata": {},
     "output_type": "display_data"
    }
   ],
   "source": [
    "sentiment_analysis = pipeline('sentiment-analysis')"
   ]
  },
  {
   "cell_type": "code",
   "execution_count": 81,
   "id": "d007ee31-1f9e-4005-a5ca-c4f343b3e981",
   "metadata": {},
   "outputs": [
    {
     "data": {
      "text/plain": [
       "list"
      ]
     },
     "execution_count": 81,
     "metadata": {},
     "output_type": "execute_result"
    }
   ],
   "source": [
    "type(summaries)"
   ]
  },
  {
   "cell_type": "code",
   "execution_count": null,
   "id": "1eb6100a-0d81-452f-9f5a-a0ab2d68c03c",
   "metadata": {},
   "outputs": [],
   "source": []
  },
  {
   "cell_type": "code",
   "execution_count": 111,
   "id": "273f120e-ebfc-4c75-911d-faf3a5c0cdab",
   "metadata": {},
   "outputs": [],
   "source": [
    "label = []\n",
    "score = []\n",
    "for i in summaries:\n",
    "    \n",
    "    result = sentiment_analysis((i[0]['summary_text']))[0]\n",
    "    label.append(result['label'])\n",
    "    score.append(result['score'])\n",
    "    \n",
    "    "
   ]
  },
  {
   "cell_type": "code",
   "execution_count": 112,
   "id": "93454fdc-9c05-46d2-bfec-b77950df01d0",
   "metadata": {},
   "outputs": [],
   "source": [
    "import pandas as pd\n",
    "import matplotlib.pyplot as plt\n",
    "data_tuples = list(zip(label,score))\n",
    "df = pd.DataFrame(data_tuples, columns=['label','score'])"
   ]
  },
  {
   "cell_type": "code",
   "execution_count": 113,
   "id": "7bc699d7-a31e-4d7b-b165-0c40af1555aa",
   "metadata": {},
   "outputs": [],
   "source": [
    "posit = df[df[\"label\"] == \"POSITIVE\"]\n",
    "negat = df[df[\"label\"] == \"NEGATIVE\"]\n",
    "means = [posit['score'].mean(), negat['score'].mean() ]\n",
    "labe = [\"POSITIVE\", \"NEGATIVE\"]"
   ]
  },
  {
   "cell_type": "code",
   "execution_count": 114,
   "id": "78e3abbc-bb8e-4609-8434-ecfa5edc281c",
   "metadata": {},
   "outputs": [
    {
     "data": {
      "image/png": "[encoded data removed]",
      "text/plain": [
       "<Figure size 432x288 with 1 Axes>"
      ]
     },
     "metadata": {
      "needs_background": "light"
     },
     "output_type": "display_data"
    }
   ],
   "source": [
    "fig = plt.figure()\n",
    "ax.set_ylim([0,1])\n",
    "ax = fig.add_axes([0,0,1,1])\n",
    "ax.bar(labe, means)\n",
    "ax.set_xlabel(\"sentiment\")\n",
    "ax.set_title(\"Article 1\")\n",
    "ax.set_ylabel(\"Mean score central asia\")\n",
    "plt.show()"
   ]
  },
  {
   "cell_type": "markdown",
   "id": "184b9ebf",
   "metadata": {},
   "source": [
    "# MongoDB"
   ]
  },
  {
   "cell_type": "code",
   "execution_count": null,
   "id": "7e84a687-b3b8-4c3a-844d-4685a235c606",
   "metadata": {},
   "outputs": [],
   "source": []
  },
  {
   "cell_type": "code",
   "execution_count": 22,
   "id": "cd1c77c1",
   "metadata": {},
   "outputs": [],
   "source": [
    "country = \"colombia\""
   ]
  },
  {
   "cell_type": "code",
   "execution_count": 44,
   "id": "00206ffd",
   "metadata": {},
   "outputs": [],
   "source": [
    "# importing module\n",
    "from pymongo import MongoClient\n",
    "  \n",
    "# creation of MongoClient\n",
    "client=MongoClient()\n",
    "  \n",
    "# Connect with the portnumber and host\n",
    "client = MongoClient(\"mongodb://localhost:27017/\")\n",
    "  \n",
    "# Access database\n",
    "mydatabase = client[\"UNAIDS_db\"]\n",
    "  \n",
    "# Access collection of the database\n",
    "mycollection = mydatabase[\"summaryTable\"]\n",
    " "
   ]
  },
  {
   "cell_type": "code",
   "execution_count": 54,
   "id": "de8b7e47",
   "metadata": {},
   "outputs": [],
   "source": [
    "for para in paragraphs_with_key_words:\n",
    "    mydatabase.summaryTable.insert_one(para)"
   ]
  },
  {
   "cell_type": "code",
   "execution_count": 55,
   "id": "218facea",
   "metadata": {},
   "outputs": [
    {
     "name": "stdout",
     "output_type": "stream",
     "text": [
      "{'_id': ObjectId('6093c92a2799b9616a6f8a11'), 'heading': '6. Conclusions ', 'text': 'The costing of HIV interventions in this study is based on 2016 HIV guidelines and considers two scenarios: NASCOP and Standard. The NASCOP scenario was based on national HIV programme targets towards achievement of 90-90-90, and the Standard scenario was based on the assumption that the guidelines would be fully implemented as spelt out in the 2016 ART guidelines. In the NASCOP scenario, the population base is assumed to be constant for the four-year costing projections, while the Standard scenario adjusts its population in need to consider incidence, mortality, and population growth rates. However, both scenarios considered two key assumptions: the gains obtained from the reduction in HIV mortality and the reduction in HIV incidence rates. Findings have shown that the average annual cost of putting a patient on ARVs is Ksh 12,032.36 (US$115.7). The Standard scenario costs more than the NASCOP scenario, although differences vary across programme areas. The key biomedical cost drivers in both scenarios were ARTs and laboratory management. Although non-biomedical interventions seemed to be a cost driver, these cost estimates were derived as a proportion of the total cost based on the report of a cost study of HIV treatment conducted in 2013 (U.S. Centers for Diseases Control and Kenya Ministry of Health, (2013), which had an in-depth micro-costing of both medical and non-medical HIV programme interventions. In conclusion, there is an expected escalation in future costs with the implementation of the new 2016 ART guidelines. This is due to inclusion of more people living with HIV in care and treatment programmes, and further enhanced by a reduction in HIV-related mortality. The inclusion of PrEP and PEP as prevention measures might have a significant impact on reducing the HIV incidence rate. This will, however, come with a considerable increase in the resources needed to fund interventions. Therefore, the key policy interventions introduced in the new guidelines center on prevention and acceleration of treatment aimed at reducing HIV incidence rates and related mortalities. This calls for resources to cover an increased number of people targeted for care and treatment programmes. A lowered mortality rate achieved through an ART programme implies increased HIV costs, as the number of people living with HIV who require HIV care will also increase. Kenya must explore channels for financing its increased need for HIV care and treatment. These could include coverage of HIV services in health insurance benefits packages (social or private health insurance), increased domestic resource mobilisation (including allocations from national and county governments), and engaging the private sector to play a bigger role in HIV financing. 20', 'key_words_info': {'key_words': ['HIV', 'sex'], 'counts': [17, 0]}, 'importance': 17, 'country': 'kenya'}\n",
      "{'_id': ObjectId('6093c92a2799b9616a6f8a12'), 'heading': 'Executive Summary ', 'text': 'In 2016, the Ministry of Health (MOH) updated Kenya’s national HIV guidelines to provide guidance on the use of antiretrovirals (ARVs) to treat and prevent HIV infection. To inform implementation and resource mobilisation, the MOH needed to understand the costing implications of implementing the new guidelines. This created the need for a study to estimate the costs of implementing the new guidelines, based on the country targets and covering all known people living with HIV in Kenya. This study adopted a micro-costing approach using population data from 2015 HIV revised estimates. The study considered two costing scenarios—the “NASCOP scenario,” based on NASCOP (National AIDS/STI Control Programme) targets to achieve the UNAIDS 90-90-90 targets; and the “Standard scenario,” based on full adoption of the new guidelines. The results show that the average annual unit cost of an adult on ARVs is Ksh 12,032.36 (US$115.7). The unit cost varies by regimen type, with the unit cost of an adults first-line regimen being Ksh 9,501.44 (US$91.4) per year, compared to Ksh 26,499.20 (US$254.8) for second-line. The annual unit cost of pediatric ARVs was estimated at Ksh 17,800.64 (US$171.2) per patient. As shown in Table E1, implementation of the new antiretroviral therapy (ART) guidelines under the Standard scenario will cost about 20 percent more than under the NASCOP scenario. The estimated cost of implementingthe new guidelines under the NASCOP and Standard scenarios in the next four years (FY2016/17–2019/20) is Ksh 197.8 billion (US$1.9 billion) and Ksh 239.2 billion (US$2.3 billion), respectively. The higher costs under the Standard scenario can explained by the higher number of people living with HIV expected to be initiated on treatment. In both scenarios, key commodities (ARVs, laboratory management, and test kits) are the main cost drivers, accounting for 61 percent of the total cost (seeTable E1). ', 'key_words_info': {'key_words': ['HIV', 'sex'], 'counts': [5, 0]}, 'importance': 5, 'country': 'kenya'}\n",
      "{'_id': ObjectId('6093c92a2799b9616a6f8a13'), 'heading': '5.7 HIV testing services for the general population   ', 'text': 'Under the NASCOP scenario, HIV testing services cost approximately Ksh 1 billion (US$10 million) in 2016/17 (see Figure 13). The total cost drops over the two subsequent periods and then increases slightly in the last period. Key cost drivers for HIV testing services are the HIV rapid kits, at a cost of approximately Ksh 936 million (US$9 million), and blood collection bags. The reason for the low estimated costs for confirmatory tests is that the test is only administered to people who have tested positive from the HIV rapid kits—this is expected to be a small proportion of the total population under testing. ', 'key_words_info': {'key_words': ['HIV', 'sex'], 'counts': [5, 0]}, 'importance': 5, 'country': 'kenya'}\n",
      "{'_id': ObjectId('6093c92a2799b9616a6f8a14'), 'heading': 'List of Figures ', 'text': 'Figure E1: Relative Costs for NCD Screening, by Disease (FY2016/17–2019/20) .......... ix Figure 1: Linkages between Key Programmatic Areas and Costing Framework for 2016 HIV Guidelines ................................................................................................... 6 Figure 2: Trend in the Costs of HIV 2016 Guideline Implementation ........................... 10 Figure 3: Costs of Routine Adult and Pediatric ARVs under NASCOP Scenario............ 10 Figure 4: Trend in Costs of Providing ARVs for Care and Treatment ............................. 11 Figure 5: Laboratory Management: Adults versus Pediatrics, NASCOP Scenario .......... 11 Figure 6: Costs of Laboratory Management between NASCOP and Standard Scenarios ......................................................................................................... 12 Figure 7: Costs of Viral Load Test ................................................................................... 12 Figure 8: Cost for PEP, NASCOP and Standard Scenarios ............................................. 13 Figure 9: PMTCT, NASCOP Scenario ............................................................................. 13 Figure 10: PMTCT Costs, NASCOP versus Standard Scenarios ..................................... 14 Figure 11: PrEP, NASCOP Scenario ................................................................................ 14 Figure 12: PrEP, NASCOP versus Standard Scenarios ................................................... 15 Figure 13: HIV Testing Services Cost Estimates, NASCOP Scenario.............................. 15 Figure 14: HIV Testing Services Cost Estimates, NASCOP versus Standard Scenarios ......................................................................................................... 16 Figure 15: Screening NCD and Co-morbidities, NASCOP Scenario ............................... 16 Figure 16: Screening for NCDs and Co-morbidities, NASCOP versus Standard Scenarios ......................................................................................................... 17 Figure 17: Medicines for Opportunistic Diseases, NASCOP Scenario ............................ 17 Figure 18: Medicines for Opportunistic Diseases, NASCOP versus Standard Scenarios ......................................................................................................... 18 v ', 'key_words_info': {'key_words': ['HIV', 'sex'], 'counts': [4, 0]}, 'importance': 4, 'country': 'kenya'}\n",
      "{'_id': ObjectId('6093c92a2799b9616a6f8a15'), 'heading': '5.5 Prevention of mother-to-child transmission ', 'text': 'Figure 9 shows the estimated cost of PMTCT using the NASCOP scenario. The PMTCT costs incorporate three estimated cost components: rapid HIV testing for pregnant mothers, early infant diagnosis (or infant PCR test), and prophylaxis (the primary cost driver). HIV rapid testing for pregnant mothers, which includes blood collection bags and testing kits, is the second-greatest cost driver. The proportion of pregnant and breastfeeding women living with HIV remains constant over the four-year period, in line with the targets set by the national HIV programme. ', 'key_words_info': {'key_words': ['HIV', 'sex'], 'counts': [4, 0]}, 'importance': 4, 'country': 'kenya'}\n",
      "{'_id': ObjectId('6093c92a2799b9616a6f8a16'), 'heading': '2.Summary of the 2016 HIV Guidelines on the Use of Antiretroviral Drugs for Treating and Preventing HIV Infection in Kenya ', 'text': 'This section summarises key programme areas covered in the 2016 HIV guidelines. (For a detailed description, see MOH and NASCOP, 2016). ', 'key_words_info': {'key_words': ['HIV', 'sex'], 'counts': [3, 0]}, 'importance': 3, 'country': 'kenya'}\n",
      "{'_id': ObjectId('6093c92a2799b9616a6f8a17'), 'heading': '5.9 Medicines for opportunistic diseases ', 'text': 'Figure 17 shows that the estimated cost of medicines for opportunistic diseases is projected to increase over time. This is consistent with the target of getting more people living with HIV into care over the projected period, as Kenya moves towards achieving the 90-90-90 targets under the test-and-treat policy. The new guidelines emphasise the need to put people living with HIV on medicines for opportunistic diseases to reduce their mortality rate. A lower mortality rate is expected to bring additional costs as demand for medicines for opportunistic diseases increases. The key driver of this programme cost is the cost for adults, which is not surprising as adults account for the bulk of people living with HIV. ', 'key_words_info': {'key_words': ['HIV', 'sex'], 'counts': [3, 0]}, 'importance': 3, 'country': 'kenya'}\n",
      "{'_id': ObjectId('6093c92a2799b9616a6f8a18'), 'heading': '5.6 Pre-exposure prophylaxis ', 'text': 'Figure 11 shows the cost of providing PrEP under the NASCOP scenario. This cost will increase to more than double current levels in the next four years as a result of increases in HIV-negative key populations under this prevention programme. The key cost driver under this programme is the regimen cost (the cost of ARVs), which increases over the entire period. However, the cost of HIV testing is also significant due to the numerous tests expected under this prevention programme.', 'key_words_info': {'key_words': ['HIV', 'sex'], 'counts': [2, 0]}, 'importance': 2, 'country': 'kenya'}\n",
      "{'_id': ObjectId('6093c92a2799b9616a6f8a19'), 'heading': '5.8 NCDs and other co-morbidity ', 'text': 'The 2016 ART guidelines recommend screening among people living with HIV for key NCDs and co-morbidities, including cancer, high blood pressure, hepatitis B and C, diabetes, and liver functions. Figure 15 shows the estimated cost of screening for these NCDs and co-morbidities under the NASCOP scenario. Screening for cervical cancer, diabetes, and cholesterol are the main cost drivers for this new programme area. The estimates show rising costs in line with an increased incidence rate of NCDs and co-morbidities over the time periods, given that the NASCOP scenario expects to put more people living with HIV on treatment in the future and that the incidence rate is positive over the entire period. ', 'key_words_info': {'key_words': ['HIV', 'sex'], 'counts': [2, 0]}, 'importance': 2, 'country': 'kenya'}\n",
      "{'_id': ObjectId('6093c92a2799b9616a6f8a1a'), 'heading': '1.1 Context  ', 'text': 'HIV and AIDS remain a major public health problem in Kenya. Therefore, there is continued need for guidance from the Ministry of Health (MOH) and other key stakeholders on how to manage current and new infections. According to the ', 'key_words_info': {'key_words': ['HIV', 'sex'], 'counts': [1, 0]}, 'importance': 1, 'country': 'kenya'}\n",
      "{'_id': ObjectId('6093c92a2799b9616a6f8a1b'), 'heading': '1.2 Study Objectives ', 'text': 'The costing exercise addresses two questions: a)What is the cost of implementing the 2016 ART guidelines based on the country targets? b)What is the total cost of implementing the 2016 ART guidelines to cover 100 percent of known people living with HIV? ', 'key_words_info': {'key_words': ['HIV', 'sex'], 'counts': [1, 0]}, 'importance': 1, 'country': 'kenya'}\n",
      "{'_id': ObjectId('6093c92a2799b9616a6f8a1c'), 'heading': '5. Costing Results ', 'text': 'This section presents the estimated cost of HIV treatment and prevention, based on the revised 2016 guidelines. The data shows the aggregated cost estimated for the NASCOP and Standard scenarios. This is followed by a disaggregation of these costs by programme area, and compared across two scenarios to provide some insight on what the guideline implementation would cost in the next four years. ', 'key_words_info': {'key_words': ['HIV', 'sex'], 'counts': [1, 0]}, 'importance': 1, 'country': 'kenya'}\n",
      "{'_id': ObjectId('6093c92a2799b9616a6f8a1d'), 'heading': '5.1 Estimated HIV programme costs between NASCOP and Standard scenarios ', 'text': 'The results presented in Table 1 show that the average unit cost of putting a patient on ARVs per year is Ksh 12,032.4 (US$115.7). The unit cost varies by regimen type, with the unit cost of an adult first-line ARV regimen at Ksh 9,501.44 (US$91.4) and second-line at Ksh 26,499.20 (US$254.8) per year. On the other hand, the annual unit cost of pediatric ARVs is 17,800.64 (US$171.2) per patient. ', 'key_words_info': {'key_words': ['HIV', 'sex'], 'counts': [1, 0]}, 'importance': 1, 'country': 'kenya'}\n",
      "{'_id': ObjectId('6093c92a2799b9616a6f8a1e'), 'heading': '5.4 Cost of post-exposure prophylaxis ', 'text': 'The costs of providing PEP under the NASCOP and Standard scenarios were equal at Ksh 555.7 million (US$5.3 million), structured as shown in Figure 8. The lack of variation between the two scenarios is explained by an assumption that an equal population will require PEP in both cases, because PEP population estimates were based on programme data and are the same in both scenarios. It is also assumed that ARVs for PEP are included under general adult ARV cost estimates. Therefore, the main cost elements were identified as additional HIV testing and kidney tests needed for the PEP programme due to use of a TDF regimen. 13 ', 'key_words_info': {'key_words': ['HIV', 'sex'], 'counts': [1, 0]}, 'importance': 1, 'country': 'kenya'}\n",
      "{'_id': ObjectId('6093c92a2799b9616a6f8a1f'), 'heading': '7.Study Limitations ', 'text': '1.The only data available on mortality rates for people living with HIV comes from the mortuary survey. This study is not representative of the current nationwide attrition rate, as it is based on Nairobi County data. A mortuary survey should be administered nationwide to create a countrywide database for attrition rate. 2.The costing model has not incorporated a six-month buffer stock, as this was not in the scope of the study. The model, however, can be customised to capture the buffer stock when used for commodity quantification for processes such as the Global Fund application. 3.The estimates for non-medical costs were based on the ', 'key_words_info': {'key_words': ['HIV', 'sex'], 'counts': [1, 0]}, 'importance': 1, 'country': 'kenya'}\n",
      "{'_id': ObjectId('6093c9f92799b9616a6f8a20'), 'heading': '6. Conclusions ', 'text': 'The costing of HIV interventions in this study is based on 2016 HIV guidelines and considers two scenarios: NASCOP and Standard. The NASCOP scenario was based on national HIV programme targets towards achievement of 90-90-90, and the Standard scenario was based on the assumption that the guidelines would be fully implemented as spelt out in the 2016 ART guidelines. In the NASCOP scenario, the population base is assumed to be constant for the four-year costing projections, while the Standard scenario adjusts its population in need to consider incidence, mortality, and population growth rates. However, both scenarios considered two key assumptions: the gains obtained from the reduction in HIV mortality and the reduction in HIV incidence rates. Findings have shown that the average annual cost of putting a patient on ARVs is Ksh 12,032.36 (US$115.7). The Standard scenario costs more than the NASCOP scenario, although differences vary across programme areas. The key biomedical cost drivers in both scenarios were ARTs and laboratory management. Although non-biomedical interventions seemed to be a cost driver, these cost estimates were derived as a proportion of the total cost based on the report of a cost study of HIV treatment conducted in 2013 (U.S. Centers for Diseases Control and Kenya Ministry of Health, (2013), which had an in-depth micro-costing of both medical and non-medical HIV programme interventions. In conclusion, there is an expected escalation in future costs with the implementation of the new 2016 ART guidelines. This is due to inclusion of more people living with HIV in care and treatment programmes, and further enhanced by a reduction in HIV-related mortality. The inclusion of PrEP and PEP as prevention measures might have a significant impact on reducing the HIV incidence rate. This will, however, come with a considerable increase in the resources needed to fund interventions. Therefore, the key policy interventions introduced in the new guidelines center on prevention and acceleration of treatment aimed at reducing HIV incidence rates and related mortalities. This calls for resources to cover an increased number of people targeted for care and treatment programmes. A lowered mortality rate achieved through an ART programme implies increased HIV costs, as the number of people living with HIV who require HIV care will also increase. Kenya must explore channels for financing its increased need for HIV care and treatment. These could include coverage of HIV services in health insurance benefits packages (social or private health insurance), increased domestic resource mobilisation (including allocations from national and county governments), and engaging the private sector to play a bigger role in HIV financing. 20', 'key_words_info': {'key_words': ['HIV', 'sex'], 'counts': [17, 0]}, 'importance': 17}\n",
      "{'_id': ObjectId('6093c9f92799b9616a6f8a21'), 'heading': 'Executive Summary ', 'text': 'In 2016, the Ministry of Health (MOH) updated Kenya’s national HIV guidelines to provide guidance on the use of antiretrovirals (ARVs) to treat and prevent HIV infection. To inform implementation and resource mobilisation, the MOH needed to understand the costing implications of implementing the new guidelines. This created the need for a study to estimate the costs of implementing the new guidelines, based on the country targets and covering all known people living with HIV in Kenya. This study adopted a micro-costing approach using population data from 2015 HIV revised estimates. The study considered two costing scenarios—the “NASCOP scenario,” based on NASCOP (National AIDS/STI Control Programme) targets to achieve the UNAIDS 90-90-90 targets; and the “Standard scenario,” based on full adoption of the new guidelines. The results show that the average annual unit cost of an adult on ARVs is Ksh 12,032.36 (US$115.7). The unit cost varies by regimen type, with the unit cost of an adults first-line regimen being Ksh 9,501.44 (US$91.4) per year, compared to Ksh 26,499.20 (US$254.8) for second-line. The annual unit cost of pediatric ARVs was estimated at Ksh 17,800.64 (US$171.2) per patient. As shown in Table E1, implementation of the new antiretroviral therapy (ART) guidelines under the Standard scenario will cost about 20 percent more than under the NASCOP scenario. The estimated cost of implementingthe new guidelines under the NASCOP and Standard scenarios in the next four years (FY2016/17–2019/20) is Ksh 197.8 billion (US$1.9 billion) and Ksh 239.2 billion (US$2.3 billion), respectively. The higher costs under the Standard scenario can explained by the higher number of people living with HIV expected to be initiated on treatment. In both scenarios, key commodities (ARVs, laboratory management, and test kits) are the main cost drivers, accounting for 61 percent of the total cost (seeTable E1). ', 'key_words_info': {'key_words': ['HIV', 'sex'], 'counts': [5, 0]}, 'importance': 5}\n",
      "{'_id': ObjectId('6093c9f92799b9616a6f8a22'), 'heading': '5.7 HIV testing services for the general population   ', 'text': 'Under the NASCOP scenario, HIV testing services cost approximately Ksh 1 billion (US$10 million) in 2016/17 (see Figure 13). The total cost drops over the two subsequent periods and then increases slightly in the last period. Key cost drivers for HIV testing services are the HIV rapid kits, at a cost of approximately Ksh 936 million (US$9 million), and blood collection bags. The reason for the low estimated costs for confirmatory tests is that the test is only administered to people who have tested positive from the HIV rapid kits—this is expected to be a small proportion of the total population under testing. ', 'key_words_info': {'key_words': ['HIV', 'sex'], 'counts': [5, 0]}, 'importance': 5}\n",
      "{'_id': ObjectId('6093c9f92799b9616a6f8a23'), 'heading': 'List of Figures ', 'text': 'Figure E1: Relative Costs for NCD Screening, by Disease (FY2016/17–2019/20) .......... ix Figure 1: Linkages between Key Programmatic Areas and Costing Framework for 2016 HIV Guidelines ................................................................................................... 6 Figure 2: Trend in the Costs of HIV 2016 Guideline Implementation ........................... 10 Figure 3: Costs of Routine Adult and Pediatric ARVs under NASCOP Scenario............ 10 Figure 4: Trend in Costs of Providing ARVs for Care and Treatment ............................. 11 Figure 5: Laboratory Management: Adults versus Pediatrics, NASCOP Scenario .......... 11 Figure 6: Costs of Laboratory Management between NASCOP and Standard Scenarios ......................................................................................................... 12 Figure 7: Costs of Viral Load Test ................................................................................... 12 Figure 8: Cost for PEP, NASCOP and Standard Scenarios ............................................. 13 Figure 9: PMTCT, NASCOP Scenario ............................................................................. 13 Figure 10: PMTCT Costs, NASCOP versus Standard Scenarios ..................................... 14 Figure 11: PrEP, NASCOP Scenario ................................................................................ 14 Figure 12: PrEP, NASCOP versus Standard Scenarios ................................................... 15 Figure 13: HIV Testing Services Cost Estimates, NASCOP Scenario.............................. 15 Figure 14: HIV Testing Services Cost Estimates, NASCOP versus Standard Scenarios ......................................................................................................... 16 Figure 15: Screening NCD and Co-morbidities, NASCOP Scenario ............................... 16 Figure 16: Screening for NCDs and Co-morbidities, NASCOP versus Standard Scenarios ......................................................................................................... 17 Figure 17: Medicines for Opportunistic Diseases, NASCOP Scenario ............................ 17 Figure 18: Medicines for Opportunistic Diseases, NASCOP versus Standard Scenarios ......................................................................................................... 18 v ', 'key_words_info': {'key_words': ['HIV', 'sex'], 'counts': [4, 0]}, 'importance': 4}\n",
      "{'_id': ObjectId('6093c9f92799b9616a6f8a24'), 'heading': '5.5 Prevention of mother-to-child transmission ', 'text': 'Figure 9 shows the estimated cost of PMTCT using the NASCOP scenario. The PMTCT costs incorporate three estimated cost components: rapid HIV testing for pregnant mothers, early infant diagnosis (or infant PCR test), and prophylaxis (the primary cost driver). HIV rapid testing for pregnant mothers, which includes blood collection bags and testing kits, is the second-greatest cost driver. The proportion of pregnant and breastfeeding women living with HIV remains constant over the four-year period, in line with the targets set by the national HIV programme. ', 'key_words_info': {'key_words': ['HIV', 'sex'], 'counts': [4, 0]}, 'importance': 4}\n",
      "{'_id': ObjectId('6093c9f92799b9616a6f8a25'), 'heading': '2.Summary of the 2016 HIV Guidelines on the Use of Antiretroviral Drugs for Treating and Preventing HIV Infection in Kenya ', 'text': 'This section summarises key programme areas covered in the 2016 HIV guidelines. (For a detailed description, see MOH and NASCOP, 2016). ', 'key_words_info': {'key_words': ['HIV', 'sex'], 'counts': [3, 0]}, 'importance': 3}\n",
      "{'_id': ObjectId('6093c9f92799b9616a6f8a26'), 'heading': '5.9 Medicines for opportunistic diseases ', 'text': 'Figure 17 shows that the estimated cost of medicines for opportunistic diseases is projected to increase over time. This is consistent with the target of getting more people living with HIV into care over the projected period, as Kenya moves towards achieving the 90-90-90 targets under the test-and-treat policy. The new guidelines emphasise the need to put people living with HIV on medicines for opportunistic diseases to reduce their mortality rate. A lower mortality rate is expected to bring additional costs as demand for medicines for opportunistic diseases increases. The key driver of this programme cost is the cost for adults, which is not surprising as adults account for the bulk of people living with HIV. ', 'key_words_info': {'key_words': ['HIV', 'sex'], 'counts': [3, 0]}, 'importance': 3}\n",
      "{'_id': ObjectId('6093c9f92799b9616a6f8a27'), 'heading': '5.6 Pre-exposure prophylaxis ', 'text': 'Figure 11 shows the cost of providing PrEP under the NASCOP scenario. This cost will increase to more than double current levels in the next four years as a result of increases in HIV-negative key populations under this prevention programme. The key cost driver under this programme is the regimen cost (the cost of ARVs), which increases over the entire period. However, the cost of HIV testing is also significant due to the numerous tests expected under this prevention programme.', 'key_words_info': {'key_words': ['HIV', 'sex'], 'counts': [2, 0]}, 'importance': 2}\n",
      "{'_id': ObjectId('6093c9f92799b9616a6f8a28'), 'heading': '5.8 NCDs and other co-morbidity ', 'text': 'The 2016 ART guidelines recommend screening among people living with HIV for key NCDs and co-morbidities, including cancer, high blood pressure, hepatitis B and C, diabetes, and liver functions. Figure 15 shows the estimated cost of screening for these NCDs and co-morbidities under the NASCOP scenario. Screening for cervical cancer, diabetes, and cholesterol are the main cost drivers for this new programme area. The estimates show rising costs in line with an increased incidence rate of NCDs and co-morbidities over the time periods, given that the NASCOP scenario expects to put more people living with HIV on treatment in the future and that the incidence rate is positive over the entire period. ', 'key_words_info': {'key_words': ['HIV', 'sex'], 'counts': [2, 0]}, 'importance': 2}\n",
      "{'_id': ObjectId('6093c9f92799b9616a6f8a29'), 'heading': '1.1 Context  ', 'text': 'HIV and AIDS remain a major public health problem in Kenya. Therefore, there is continued need for guidance from the Ministry of Health (MOH) and other key stakeholders on how to manage current and new infections. According to the ', 'key_words_info': {'key_words': ['HIV', 'sex'], 'counts': [1, 0]}, 'importance': 1}\n",
      "{'_id': ObjectId('6093c9f92799b9616a6f8a2a'), 'heading': '1.2 Study Objectives ', 'text': 'The costing exercise addresses two questions: a)What is the cost of implementing the 2016 ART guidelines based on the country targets? b)What is the total cost of implementing the 2016 ART guidelines to cover 100 percent of known people living with HIV? ', 'key_words_info': {'key_words': ['HIV', 'sex'], 'counts': [1, 0]}, 'importance': 1}\n",
      "{'_id': ObjectId('6093c9f92799b9616a6f8a2b'), 'heading': '5. Costing Results ', 'text': 'This section presents the estimated cost of HIV treatment and prevention, based on the revised 2016 guidelines. The data shows the aggregated cost estimated for the NASCOP and Standard scenarios. This is followed by a disaggregation of these costs by programme area, and compared across two scenarios to provide some insight on what the guideline implementation would cost in the next four years. ', 'key_words_info': {'key_words': ['HIV', 'sex'], 'counts': [1, 0]}, 'importance': 1}\n",
      "{'_id': ObjectId('6093c9f92799b9616a6f8a2c'), 'heading': '5.1 Estimated HIV programme costs between NASCOP and Standard scenarios ', 'text': 'The results presented in Table 1 show that the average unit cost of putting a patient on ARVs per year is Ksh 12,032.4 (US$115.7). The unit cost varies by regimen type, with the unit cost of an adult first-line ARV regimen at Ksh 9,501.44 (US$91.4) and second-line at Ksh 26,499.20 (US$254.8) per year. On the other hand, the annual unit cost of pediatric ARVs is 17,800.64 (US$171.2) per patient. ', 'key_words_info': {'key_words': ['HIV', 'sex'], 'counts': [1, 0]}, 'importance': 1}\n",
      "{'_id': ObjectId('6093c9f92799b9616a6f8a2d'), 'heading': '5.4 Cost of post-exposure prophylaxis ', 'text': 'The costs of providing PEP under the NASCOP and Standard scenarios were equal at Ksh 555.7 million (US$5.3 million), structured as shown in Figure 8. The lack of variation between the two scenarios is explained by an assumption that an equal population will require PEP in both cases, because PEP population estimates were based on programme data and are the same in both scenarios. It is also assumed that ARVs for PEP are included under general adult ARV cost estimates. Therefore, the main cost elements were identified as additional HIV testing and kidney tests needed for the PEP programme due to use of a TDF regimen. 13 ', 'key_words_info': {'key_words': ['HIV', 'sex'], 'counts': [1, 0]}, 'importance': 1}\n",
      "{'_id': ObjectId('6093c9f92799b9616a6f8a2e'), 'heading': '7.Study Limitations ', 'text': '1.The only data available on mortality rates for people living with HIV comes from the mortuary survey. This study is not representative of the current nationwide attrition rate, as it is based on Nairobi County data. A mortuary survey should be administered nationwide to create a countrywide database for attrition rate. 2.The costing model has not incorporated a six-month buffer stock, as this was not in the scope of the study. The model, however, can be customised to capture the buffer stock when used for commodity quantification for processes such as the Global Fund application. 3.The estimates for non-medical costs were based on the ', 'key_words_info': {'key_words': ['HIV', 'sex'], 'counts': [1, 0]}, 'importance': 1}\n"
     ]
    }
   ],
   "source": [
    "cursor = mycollection.find()\n",
    "for record in cursor:\n",
    "    print(record)"
   ]
  },
  {
   "cell_type": "code",
   "execution_count": 57,
   "id": "7775b0e7",
   "metadata": {},
   "outputs": [
    {
     "name": "stdout",
     "output_type": "stream",
     "text": [
      "{'_id': ObjectId('6093c92a2799b9616a6f8a11'), 'heading': '6. Conclusions ', 'text': 'The costing of HIV interventions in this study is based on 2016 HIV guidelines and considers two scenarios: NASCOP and Standard. The NASCOP scenario was based on national HIV programme targets towards achievement of 90-90-90, and the Standard scenario was based on the assumption that the guidelines would be fully implemented as spelt out in the 2016 ART guidelines. In the NASCOP scenario, the population base is assumed to be constant for the four-year costing projections, while the Standard scenario adjusts its population in need to consider incidence, mortality, and population growth rates. However, both scenarios considered two key assumptions: the gains obtained from the reduction in HIV mortality and the reduction in HIV incidence rates. Findings have shown that the average annual cost of putting a patient on ARVs is Ksh 12,032.36 (US$115.7). The Standard scenario costs more than the NASCOP scenario, although differences vary across programme areas. The key biomedical cost drivers in both scenarios were ARTs and laboratory management. Although non-biomedical interventions seemed to be a cost driver, these cost estimates were derived as a proportion of the total cost based on the report of a cost study of HIV treatment conducted in 2013 (U.S. Centers for Diseases Control and Kenya Ministry of Health, (2013), which had an in-depth micro-costing of both medical and non-medical HIV programme interventions. In conclusion, there is an expected escalation in future costs with the implementation of the new 2016 ART guidelines. This is due to inclusion of more people living with HIV in care and treatment programmes, and further enhanced by a reduction in HIV-related mortality. The inclusion of PrEP and PEP as prevention measures might have a significant impact on reducing the HIV incidence rate. This will, however, come with a considerable increase in the resources needed to fund interventions. Therefore, the key policy interventions introduced in the new guidelines center on prevention and acceleration of treatment aimed at reducing HIV incidence rates and related mortalities. This calls for resources to cover an increased number of people targeted for care and treatment programmes. A lowered mortality rate achieved through an ART programme implies increased HIV costs, as the number of people living with HIV who require HIV care will also increase. Kenya must explore channels for financing its increased need for HIV care and treatment. These could include coverage of HIV services in health insurance benefits packages (social or private health insurance), increased domestic resource mobilisation (including allocations from national and county governments), and engaging the private sector to play a bigger role in HIV financing. 20', 'key_words_info': {'key_words': ['HIV', 'sex'], 'counts': [17, 0]}, 'importance': 17, 'country': 'kenya'}\n"
     ]
    }
   ],
   "source": [
    "# Find first document\n",
    "x = mycollection.find_one()\n",
    "print(x)"
   ]
  },
  {
   "cell_type": "code",
   "execution_count": 58,
   "id": "6f820118",
   "metadata": {},
   "outputs": [
    {
     "data": {
      "text/plain": [
       "dict_keys(['_id', 'heading', 'text', 'key_words_info', 'importance', 'country'])"
      ]
     },
     "execution_count": 58,
     "metadata": {},
     "output_type": "execute_result"
    }
   ],
   "source": [
    "x.keys()"
   ]
  },
  {
   "cell_type": "code",
   "execution_count": 64,
   "id": "5a2a7c96",
   "metadata": {},
   "outputs": [],
   "source": [
    "# Filtering the Quantities greater\n",
    "# than 40 using query.\n",
    "cursor = mycollection.find({\"importance\": {\"$lt\": 10}})"
   ]
  },
  {
   "cell_type": "code",
   "execution_count": 65,
   "id": "37c598d0",
   "metadata": {},
   "outputs": [
    {
     "name": "stdout",
     "output_type": "stream",
     "text": [
      "The data having Quantity greater than 40 is:\n",
      "{'_id': ObjectId('6093c92a2799b9616a6f8a12'), 'heading': 'Executive Summary ', 'text': 'In 2016, the Ministry of Health (MOH) updated Kenya’s national HIV guidelines to provide guidance on the use of antiretrovirals (ARVs) to treat and prevent HIV infection. To inform implementation and resource mobilisation, the MOH needed to understand the costing implications of implementing the new guidelines. This created the need for a study to estimate the costs of implementing the new guidelines, based on the country targets and covering all known people living with HIV in Kenya. This study adopted a micro-costing approach using population data from 2015 HIV revised estimates. The study considered two costing scenarios—the “NASCOP scenario,” based on NASCOP (National AIDS/STI Control Programme) targets to achieve the UNAIDS 90-90-90 targets; and the “Standard scenario,” based on full adoption of the new guidelines. The results show that the average annual unit cost of an adult on ARVs is Ksh 12,032.36 (US$115.7). The unit cost varies by regimen type, with the unit cost of an adults first-line regimen being Ksh 9,501.44 (US$91.4) per year, compared to Ksh 26,499.20 (US$254.8) for second-line. The annual unit cost of pediatric ARVs was estimated at Ksh 17,800.64 (US$171.2) per patient. As shown in Table E1, implementation of the new antiretroviral therapy (ART) guidelines under the Standard scenario will cost about 20 percent more than under the NASCOP scenario. The estimated cost of implementingthe new guidelines under the NASCOP and Standard scenarios in the next four years (FY2016/17–2019/20) is Ksh 197.8 billion (US$1.9 billion) and Ksh 239.2 billion (US$2.3 billion), respectively. The higher costs under the Standard scenario can explained by the higher number of people living with HIV expected to be initiated on treatment. In both scenarios, key commodities (ARVs, laboratory management, and test kits) are the main cost drivers, accounting for 61 percent of the total cost (seeTable E1). ', 'key_words_info': {'key_words': ['HIV', 'sex'], 'counts': [5, 0]}, 'importance': 5, 'country': 'kenya'}\n",
      "{'_id': ObjectId('6093c92a2799b9616a6f8a13'), 'heading': '5.7 HIV testing services for the general population   ', 'text': 'Under the NASCOP scenario, HIV testing services cost approximately Ksh 1 billion (US$10 million) in 2016/17 (see Figure 13). The total cost drops over the two subsequent periods and then increases slightly in the last period. Key cost drivers for HIV testing services are the HIV rapid kits, at a cost of approximately Ksh 936 million (US$9 million), and blood collection bags. The reason for the low estimated costs for confirmatory tests is that the test is only administered to people who have tested positive from the HIV rapid kits—this is expected to be a small proportion of the total population under testing. ', 'key_words_info': {'key_words': ['HIV', 'sex'], 'counts': [5, 0]}, 'importance': 5, 'country': 'kenya'}\n",
      "{'_id': ObjectId('6093c92a2799b9616a6f8a14'), 'heading': 'List of Figures ', 'text': 'Figure E1: Relative Costs for NCD Screening, by Disease (FY2016/17–2019/20) .......... ix Figure 1: Linkages between Key Programmatic Areas and Costing Framework for 2016 HIV Guidelines ................................................................................................... 6 Figure 2: Trend in the Costs of HIV 2016 Guideline Implementation ........................... 10 Figure 3: Costs of Routine Adult and Pediatric ARVs under NASCOP Scenario............ 10 Figure 4: Trend in Costs of Providing ARVs for Care and Treatment ............................. 11 Figure 5: Laboratory Management: Adults versus Pediatrics, NASCOP Scenario .......... 11 Figure 6: Costs of Laboratory Management between NASCOP and Standard Scenarios ......................................................................................................... 12 Figure 7: Costs of Viral Load Test ................................................................................... 12 Figure 8: Cost for PEP, NASCOP and Standard Scenarios ............................................. 13 Figure 9: PMTCT, NASCOP Scenario ............................................................................. 13 Figure 10: PMTCT Costs, NASCOP versus Standard Scenarios ..................................... 14 Figure 11: PrEP, NASCOP Scenario ................................................................................ 14 Figure 12: PrEP, NASCOP versus Standard Scenarios ................................................... 15 Figure 13: HIV Testing Services Cost Estimates, NASCOP Scenario.............................. 15 Figure 14: HIV Testing Services Cost Estimates, NASCOP versus Standard Scenarios ......................................................................................................... 16 Figure 15: Screening NCD and Co-morbidities, NASCOP Scenario ............................... 16 Figure 16: Screening for NCDs and Co-morbidities, NASCOP versus Standard Scenarios ......................................................................................................... 17 Figure 17: Medicines for Opportunistic Diseases, NASCOP Scenario ............................ 17 Figure 18: Medicines for Opportunistic Diseases, NASCOP versus Standard Scenarios ......................................................................................................... 18 v ', 'key_words_info': {'key_words': ['HIV', 'sex'], 'counts': [4, 0]}, 'importance': 4, 'country': 'kenya'}\n",
      "{'_id': ObjectId('6093c92a2799b9616a6f8a15'), 'heading': '5.5 Prevention of mother-to-child transmission ', 'text': 'Figure 9 shows the estimated cost of PMTCT using the NASCOP scenario. The PMTCT costs incorporate three estimated cost components: rapid HIV testing for pregnant mothers, early infant diagnosis (or infant PCR test), and prophylaxis (the primary cost driver). HIV rapid testing for pregnant mothers, which includes blood collection bags and testing kits, is the second-greatest cost driver. The proportion of pregnant and breastfeeding women living with HIV remains constant over the four-year period, in line with the targets set by the national HIV programme. ', 'key_words_info': {'key_words': ['HIV', 'sex'], 'counts': [4, 0]}, 'importance': 4, 'country': 'kenya'}\n",
      "{'_id': ObjectId('6093c92a2799b9616a6f8a16'), 'heading': '2.Summary of the 2016 HIV Guidelines on the Use of Antiretroviral Drugs for Treating and Preventing HIV Infection in Kenya ', 'text': 'This section summarises key programme areas covered in the 2016 HIV guidelines. (For a detailed description, see MOH and NASCOP, 2016). ', 'key_words_info': {'key_words': ['HIV', 'sex'], 'counts': [3, 0]}, 'importance': 3, 'country': 'kenya'}\n",
      "{'_id': ObjectId('6093c92a2799b9616a6f8a17'), 'heading': '5.9 Medicines for opportunistic diseases ', 'text': 'Figure 17 shows that the estimated cost of medicines for opportunistic diseases is projected to increase over time. This is consistent with the target of getting more people living with HIV into care over the projected period, as Kenya moves towards achieving the 90-90-90 targets under the test-and-treat policy. The new guidelines emphasise the need to put people living with HIV on medicines for opportunistic diseases to reduce their mortality rate. A lower mortality rate is expected to bring additional costs as demand for medicines for opportunistic diseases increases. The key driver of this programme cost is the cost for adults, which is not surprising as adults account for the bulk of people living with HIV. ', 'key_words_info': {'key_words': ['HIV', 'sex'], 'counts': [3, 0]}, 'importance': 3, 'country': 'kenya'}\n",
      "{'_id': ObjectId('6093c92a2799b9616a6f8a18'), 'heading': '5.6 Pre-exposure prophylaxis ', 'text': 'Figure 11 shows the cost of providing PrEP under the NASCOP scenario. This cost will increase to more than double current levels in the next four years as a result of increases in HIV-negative key populations under this prevention programme. The key cost driver under this programme is the regimen cost (the cost of ARVs), which increases over the entire period. However, the cost of HIV testing is also significant due to the numerous tests expected under this prevention programme.', 'key_words_info': {'key_words': ['HIV', 'sex'], 'counts': [2, 0]}, 'importance': 2, 'country': 'kenya'}\n",
      "{'_id': ObjectId('6093c92a2799b9616a6f8a19'), 'heading': '5.8 NCDs and other co-morbidity ', 'text': 'The 2016 ART guidelines recommend screening among people living with HIV for key NCDs and co-morbidities, including cancer, high blood pressure, hepatitis B and C, diabetes, and liver functions. Figure 15 shows the estimated cost of screening for these NCDs and co-morbidities under the NASCOP scenario. Screening for cervical cancer, diabetes, and cholesterol are the main cost drivers for this new programme area. The estimates show rising costs in line with an increased incidence rate of NCDs and co-morbidities over the time periods, given that the NASCOP scenario expects to put more people living with HIV on treatment in the future and that the incidence rate is positive over the entire period. ', 'key_words_info': {'key_words': ['HIV', 'sex'], 'counts': [2, 0]}, 'importance': 2, 'country': 'kenya'}\n",
      "{'_id': ObjectId('6093c92a2799b9616a6f8a1a'), 'heading': '1.1 Context  ', 'text': 'HIV and AIDS remain a major public health problem in Kenya. Therefore, there is continued need for guidance from the Ministry of Health (MOH) and other key stakeholders on how to manage current and new infections. According to the ', 'key_words_info': {'key_words': ['HIV', 'sex'], 'counts': [1, 0]}, 'importance': 1, 'country': 'kenya'}\n",
      "{'_id': ObjectId('6093c92a2799b9616a6f8a1b'), 'heading': '1.2 Study Objectives ', 'text': 'The costing exercise addresses two questions: a)What is the cost of implementing the 2016 ART guidelines based on the country targets? b)What is the total cost of implementing the 2016 ART guidelines to cover 100 percent of known people living with HIV? ', 'key_words_info': {'key_words': ['HIV', 'sex'], 'counts': [1, 0]}, 'importance': 1, 'country': 'kenya'}\n",
      "{'_id': ObjectId('6093c92a2799b9616a6f8a1c'), 'heading': '5. Costing Results ', 'text': 'This section presents the estimated cost of HIV treatment and prevention, based on the revised 2016 guidelines. The data shows the aggregated cost estimated for the NASCOP and Standard scenarios. This is followed by a disaggregation of these costs by programme area, and compared across two scenarios to provide some insight on what the guideline implementation would cost in the next four years. ', 'key_words_info': {'key_words': ['HIV', 'sex'], 'counts': [1, 0]}, 'importance': 1, 'country': 'kenya'}\n",
      "{'_id': ObjectId('6093c92a2799b9616a6f8a1d'), 'heading': '5.1 Estimated HIV programme costs between NASCOP and Standard scenarios ', 'text': 'The results presented in Table 1 show that the average unit cost of putting a patient on ARVs per year is Ksh 12,032.4 (US$115.7). The unit cost varies by regimen type, with the unit cost of an adult first-line ARV regimen at Ksh 9,501.44 (US$91.4) and second-line at Ksh 26,499.20 (US$254.8) per year. On the other hand, the annual unit cost of pediatric ARVs is 17,800.64 (US$171.2) per patient. ', 'key_words_info': {'key_words': ['HIV', 'sex'], 'counts': [1, 0]}, 'importance': 1, 'country': 'kenya'}\n",
      "{'_id': ObjectId('6093c92a2799b9616a6f8a1e'), 'heading': '5.4 Cost of post-exposure prophylaxis ', 'text': 'The costs of providing PEP under the NASCOP and Standard scenarios were equal at Ksh 555.7 million (US$5.3 million), structured as shown in Figure 8. The lack of variation between the two scenarios is explained by an assumption that an equal population will require PEP in both cases, because PEP population estimates were based on programme data and are the same in both scenarios. It is also assumed that ARVs for PEP are included under general adult ARV cost estimates. Therefore, the main cost elements were identified as additional HIV testing and kidney tests needed for the PEP programme due to use of a TDF regimen. 13 ', 'key_words_info': {'key_words': ['HIV', 'sex'], 'counts': [1, 0]}, 'importance': 1, 'country': 'kenya'}\n",
      "{'_id': ObjectId('6093c92a2799b9616a6f8a1f'), 'heading': '7.Study Limitations ', 'text': '1.The only data available on mortality rates for people living with HIV comes from the mortuary survey. This study is not representative of the current nationwide attrition rate, as it is based on Nairobi County data. A mortuary survey should be administered nationwide to create a countrywide database for attrition rate. 2.The costing model has not incorporated a six-month buffer stock, as this was not in the scope of the study. The model, however, can be customised to capture the buffer stock when used for commodity quantification for processes such as the Global Fund application. 3.The estimates for non-medical costs were based on the ', 'key_words_info': {'key_words': ['HIV', 'sex'], 'counts': [1, 0]}, 'importance': 1, 'country': 'kenya'}\n",
      "{'_id': ObjectId('6093c9f92799b9616a6f8a21'), 'heading': 'Executive Summary ', 'text': 'In 2016, the Ministry of Health (MOH) updated Kenya’s national HIV guidelines to provide guidance on the use of antiretrovirals (ARVs) to treat and prevent HIV infection. To inform implementation and resource mobilisation, the MOH needed to understand the costing implications of implementing the new guidelines. This created the need for a study to estimate the costs of implementing the new guidelines, based on the country targets and covering all known people living with HIV in Kenya. This study adopted a micro-costing approach using population data from 2015 HIV revised estimates. The study considered two costing scenarios—the “NASCOP scenario,” based on NASCOP (National AIDS/STI Control Programme) targets to achieve the UNAIDS 90-90-90 targets; and the “Standard scenario,” based on full adoption of the new guidelines. The results show that the average annual unit cost of an adult on ARVs is Ksh 12,032.36 (US$115.7). The unit cost varies by regimen type, with the unit cost of an adults first-line regimen being Ksh 9,501.44 (US$91.4) per year, compared to Ksh 26,499.20 (US$254.8) for second-line. The annual unit cost of pediatric ARVs was estimated at Ksh 17,800.64 (US$171.2) per patient. As shown in Table E1, implementation of the new antiretroviral therapy (ART) guidelines under the Standard scenario will cost about 20 percent more than under the NASCOP scenario. The estimated cost of implementingthe new guidelines under the NASCOP and Standard scenarios in the next four years (FY2016/17–2019/20) is Ksh 197.8 billion (US$1.9 billion) and Ksh 239.2 billion (US$2.3 billion), respectively. The higher costs under the Standard scenario can explained by the higher number of people living with HIV expected to be initiated on treatment. In both scenarios, key commodities (ARVs, laboratory management, and test kits) are the main cost drivers, accounting for 61 percent of the total cost (seeTable E1). ', 'key_words_info': {'key_words': ['HIV', 'sex'], 'counts': [5, 0]}, 'importance': 5}\n",
      "{'_id': ObjectId('6093c9f92799b9616a6f8a22'), 'heading': '5.7 HIV testing services for the general population   ', 'text': 'Under the NASCOP scenario, HIV testing services cost approximately Ksh 1 billion (US$10 million) in 2016/17 (see Figure 13). The total cost drops over the two subsequent periods and then increases slightly in the last period. Key cost drivers for HIV testing services are the HIV rapid kits, at a cost of approximately Ksh 936 million (US$9 million), and blood collection bags. The reason for the low estimated costs for confirmatory tests is that the test is only administered to people who have tested positive from the HIV rapid kits—this is expected to be a small proportion of the total population under testing. ', 'key_words_info': {'key_words': ['HIV', 'sex'], 'counts': [5, 0]}, 'importance': 5}\n",
      "{'_id': ObjectId('6093c9f92799b9616a6f8a23'), 'heading': 'List of Figures ', 'text': 'Figure E1: Relative Costs for NCD Screening, by Disease (FY2016/17–2019/20) .......... ix Figure 1: Linkages between Key Programmatic Areas and Costing Framework for 2016 HIV Guidelines ................................................................................................... 6 Figure 2: Trend in the Costs of HIV 2016 Guideline Implementation ........................... 10 Figure 3: Costs of Routine Adult and Pediatric ARVs under NASCOP Scenario............ 10 Figure 4: Trend in Costs of Providing ARVs for Care and Treatment ............................. 11 Figure 5: Laboratory Management: Adults versus Pediatrics, NASCOP Scenario .......... 11 Figure 6: Costs of Laboratory Management between NASCOP and Standard Scenarios ......................................................................................................... 12 Figure 7: Costs of Viral Load Test ................................................................................... 12 Figure 8: Cost for PEP, NASCOP and Standard Scenarios ............................................. 13 Figure 9: PMTCT, NASCOP Scenario ............................................................................. 13 Figure 10: PMTCT Costs, NASCOP versus Standard Scenarios ..................................... 14 Figure 11: PrEP, NASCOP Scenario ................................................................................ 14 Figure 12: PrEP, NASCOP versus Standard Scenarios ................................................... 15 Figure 13: HIV Testing Services Cost Estimates, NASCOP Scenario.............................. 15 Figure 14: HIV Testing Services Cost Estimates, NASCOP versus Standard Scenarios ......................................................................................................... 16 Figure 15: Screening NCD and Co-morbidities, NASCOP Scenario ............................... 16 Figure 16: Screening for NCDs and Co-morbidities, NASCOP versus Standard Scenarios ......................................................................................................... 17 Figure 17: Medicines for Opportunistic Diseases, NASCOP Scenario ............................ 17 Figure 18: Medicines for Opportunistic Diseases, NASCOP versus Standard Scenarios ......................................................................................................... 18 v ', 'key_words_info': {'key_words': ['HIV', 'sex'], 'counts': [4, 0]}, 'importance': 4}\n",
      "{'_id': ObjectId('6093c9f92799b9616a6f8a24'), 'heading': '5.5 Prevention of mother-to-child transmission ', 'text': 'Figure 9 shows the estimated cost of PMTCT using the NASCOP scenario. The PMTCT costs incorporate three estimated cost components: rapid HIV testing for pregnant mothers, early infant diagnosis (or infant PCR test), and prophylaxis (the primary cost driver). HIV rapid testing for pregnant mothers, which includes blood collection bags and testing kits, is the second-greatest cost driver. The proportion of pregnant and breastfeeding women living with HIV remains constant over the four-year period, in line with the targets set by the national HIV programme. ', 'key_words_info': {'key_words': ['HIV', 'sex'], 'counts': [4, 0]}, 'importance': 4}\n",
      "{'_id': ObjectId('6093c9f92799b9616a6f8a25'), 'heading': '2.Summary of the 2016 HIV Guidelines on the Use of Antiretroviral Drugs for Treating and Preventing HIV Infection in Kenya ', 'text': 'This section summarises key programme areas covered in the 2016 HIV guidelines. (For a detailed description, see MOH and NASCOP, 2016). ', 'key_words_info': {'key_words': ['HIV', 'sex'], 'counts': [3, 0]}, 'importance': 3}\n",
      "{'_id': ObjectId('6093c9f92799b9616a6f8a26'), 'heading': '5.9 Medicines for opportunistic diseases ', 'text': 'Figure 17 shows that the estimated cost of medicines for opportunistic diseases is projected to increase over time. This is consistent with the target of getting more people living with HIV into care over the projected period, as Kenya moves towards achieving the 90-90-90 targets under the test-and-treat policy. The new guidelines emphasise the need to put people living with HIV on medicines for opportunistic diseases to reduce their mortality rate. A lower mortality rate is expected to bring additional costs as demand for medicines for opportunistic diseases increases. The key driver of this programme cost is the cost for adults, which is not surprising as adults account for the bulk of people living with HIV. ', 'key_words_info': {'key_words': ['HIV', 'sex'], 'counts': [3, 0]}, 'importance': 3}\n",
      "{'_id': ObjectId('6093c9f92799b9616a6f8a27'), 'heading': '5.6 Pre-exposure prophylaxis ', 'text': 'Figure 11 shows the cost of providing PrEP under the NASCOP scenario. This cost will increase to more than double current levels in the next four years as a result of increases in HIV-negative key populations under this prevention programme. The key cost driver under this programme is the regimen cost (the cost of ARVs), which increases over the entire period. However, the cost of HIV testing is also significant due to the numerous tests expected under this prevention programme.', 'key_words_info': {'key_words': ['HIV', 'sex'], 'counts': [2, 0]}, 'importance': 2}\n",
      "{'_id': ObjectId('6093c9f92799b9616a6f8a28'), 'heading': '5.8 NCDs and other co-morbidity ', 'text': 'The 2016 ART guidelines recommend screening among people living with HIV for key NCDs and co-morbidities, including cancer, high blood pressure, hepatitis B and C, diabetes, and liver functions. Figure 15 shows the estimated cost of screening for these NCDs and co-morbidities under the NASCOP scenario. Screening for cervical cancer, diabetes, and cholesterol are the main cost drivers for this new programme area. The estimates show rising costs in line with an increased incidence rate of NCDs and co-morbidities over the time periods, given that the NASCOP scenario expects to put more people living with HIV on treatment in the future and that the incidence rate is positive over the entire period. ', 'key_words_info': {'key_words': ['HIV', 'sex'], 'counts': [2, 0]}, 'importance': 2}\n",
      "{'_id': ObjectId('6093c9f92799b9616a6f8a29'), 'heading': '1.1 Context  ', 'text': 'HIV and AIDS remain a major public health problem in Kenya. Therefore, there is continued need for guidance from the Ministry of Health (MOH) and other key stakeholders on how to manage current and new infections. According to the ', 'key_words_info': {'key_words': ['HIV', 'sex'], 'counts': [1, 0]}, 'importance': 1}\n",
      "{'_id': ObjectId('6093c9f92799b9616a6f8a2a'), 'heading': '1.2 Study Objectives ', 'text': 'The costing exercise addresses two questions: a)What is the cost of implementing the 2016 ART guidelines based on the country targets? b)What is the total cost of implementing the 2016 ART guidelines to cover 100 percent of known people living with HIV? ', 'key_words_info': {'key_words': ['HIV', 'sex'], 'counts': [1, 0]}, 'importance': 1}\n",
      "{'_id': ObjectId('6093c9f92799b9616a6f8a2b'), 'heading': '5. Costing Results ', 'text': 'This section presents the estimated cost of HIV treatment and prevention, based on the revised 2016 guidelines. The data shows the aggregated cost estimated for the NASCOP and Standard scenarios. This is followed by a disaggregation of these costs by programme area, and compared across two scenarios to provide some insight on what the guideline implementation would cost in the next four years. ', 'key_words_info': {'key_words': ['HIV', 'sex'], 'counts': [1, 0]}, 'importance': 1}\n",
      "{'_id': ObjectId('6093c9f92799b9616a6f8a2c'), 'heading': '5.1 Estimated HIV programme costs between NASCOP and Standard scenarios ', 'text': 'The results presented in Table 1 show that the average unit cost of putting a patient on ARVs per year is Ksh 12,032.4 (US$115.7). The unit cost varies by regimen type, with the unit cost of an adult first-line ARV regimen at Ksh 9,501.44 (US$91.4) and second-line at Ksh 26,499.20 (US$254.8) per year. On the other hand, the annual unit cost of pediatric ARVs is 17,800.64 (US$171.2) per patient. ', 'key_words_info': {'key_words': ['HIV', 'sex'], 'counts': [1, 0]}, 'importance': 1}\n",
      "{'_id': ObjectId('6093c9f92799b9616a6f8a2d'), 'heading': '5.4 Cost of post-exposure prophylaxis ', 'text': 'The costs of providing PEP under the NASCOP and Standard scenarios were equal at Ksh 555.7 million (US$5.3 million), structured as shown in Figure 8. The lack of variation between the two scenarios is explained by an assumption that an equal population will require PEP in both cases, because PEP population estimates were based on programme data and are the same in both scenarios. It is also assumed that ARVs for PEP are included under general adult ARV cost estimates. Therefore, the main cost elements were identified as additional HIV testing and kidney tests needed for the PEP programme due to use of a TDF regimen. 13 ', 'key_words_info': {'key_words': ['HIV', 'sex'], 'counts': [1, 0]}, 'importance': 1}\n",
      "{'_id': ObjectId('6093c9f92799b9616a6f8a2e'), 'heading': '7.Study Limitations ', 'text': '1.The only data available on mortality rates for people living with HIV comes from the mortuary survey. This study is not representative of the current nationwide attrition rate, as it is based on Nairobi County data. A mortuary survey should be administered nationwide to create a countrywide database for attrition rate. 2.The costing model has not incorporated a six-month buffer stock, as this was not in the scope of the study. The model, however, can be customised to capture the buffer stock when used for commodity quantification for processes such as the Global Fund application. 3.The estimates for non-medical costs were based on the ', 'key_words_info': {'key_words': ['HIV', 'sex'], 'counts': [1, 0]}, 'importance': 1}\n"
     ]
    }
   ],
   "source": [
    "print(\"The data having Quantity greater than 40 is:\")\n",
    "for record in cursor: \n",
    "    print(record) "
   ]
  },
  {
   "cell_type": "code",
   "execution_count": null,
   "id": "ae84e643",
   "metadata": {},
   "outputs": [],
   "source": [
    "filter = { 'appliance': 'tv' }"
   ]
  }
 ],
 "metadata": {
  "kernelspec": {
   "display_name": "Python 3",
   "language": "python",
   "name": "python3"
  },
  "language_info": {
   "codemirror_mode": {
    "name": "ipython",
    "version": 3
   },
   "file_extension": ".py",
   "mimetype": "text/x-python",
   "name": "python",
   "nbconvert_exporter": "python",
   "pygments_lexer": "ipython3",
   "version": "3.8.8"
  }
 },
 "nbformat": 4,
 "nbformat_minor": 5
}
